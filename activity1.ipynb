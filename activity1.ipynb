{
 "cells": [
  {
   "cell_type": "markdown",
   "id": "62f557a1-60e2-405c-99ec-4ee49e9717a5",
   "metadata": {},
   "source": [
    "<h1>ACTIVITY-1 PALMER PENGUINS DATA ANALYSTICS</h1>|\n",
    "<hr>"
   ]
  },
  {
   "cell_type": "markdown",
   "id": "5ab96627-245d-46ca-b6e1-e32ac96d3099",
   "metadata": {},
   "source": [
    "<h4>Analyst:Jayson R. Esmen</h4>"
   ]
  },
  {
   "cell_type": "code",
   "execution_count": 157,
   "id": "34b8f2fe-7dd6-4bc9-b200-f481a6a46587",
   "metadata": {},
   "outputs": [],
   "source": [
    "import numpy as np\n",
    "import pandas as pd\n",
    "import warnings\n",
    "warnings.filterwarnings ('ignore')\n",
    "import matplotlib.pyplot as plt"
   ]
  },
  {
   "cell_type": "code",
   "execution_count": 158,
   "id": "9a2c2ce3-79fa-4705-ad2d-94e3f3997119",
   "metadata": {},
   "outputs": [],
   "source": [
    "#libraries"
   ]
  },
  {
   "cell_type": "code",
   "execution_count": 159,
   "id": "bdb5c6fb-794b-42b0-b9f1-ab8b9beaf6fb",
   "metadata": {},
   "outputs": [],
   "source": [
    "bird = pd.read_csv('datasets\\\\penguins.csv')"
   ]
  },
  {
   "cell_type": "code",
   "execution_count": 160,
   "id": "c4ac763f-2a95-4c11-9100-e58de32126e8",
   "metadata": {},
   "outputs": [
    {
     "data": {
      "text/html": [
       "<div>\n",
       "<style scoped>\n",
       "    .dataframe tbody tr th:only-of-type {\n",
       "        vertical-align: middle;\n",
       "    }\n",
       "\n",
       "    .dataframe tbody tr th {\n",
       "        vertical-align: top;\n",
       "    }\n",
       "\n",
       "    .dataframe thead th {\n",
       "        text-align: right;\n",
       "    }\n",
       "</style>\n",
       "<table border=\"1\" class=\"dataframe\">\n",
       "  <thead>\n",
       "    <tr style=\"text-align: right;\">\n",
       "      <th></th>\n",
       "      <th>species</th>\n",
       "      <th>island</th>\n",
       "      <th>bill_length_mm</th>\n",
       "      <th>bill_depth_mm</th>\n",
       "      <th>flipper_length_mm</th>\n",
       "      <th>body_mass_g</th>\n",
       "      <th>sex</th>\n",
       "      <th>year</th>\n",
       "    </tr>\n",
       "  </thead>\n",
       "  <tbody>\n",
       "    <tr>\n",
       "      <th>0</th>\n",
       "      <td>Adelie</td>\n",
       "      <td>Torgersen</td>\n",
       "      <td>39.1</td>\n",
       "      <td>18.7</td>\n",
       "      <td>181.0</td>\n",
       "      <td>3750.0</td>\n",
       "      <td>male</td>\n",
       "      <td>2007</td>\n",
       "    </tr>\n",
       "    <tr>\n",
       "      <th>1</th>\n",
       "      <td>Adelie</td>\n",
       "      <td>Torgersen</td>\n",
       "      <td>39.5</td>\n",
       "      <td>17.4</td>\n",
       "      <td>186.0</td>\n",
       "      <td>3800.0</td>\n",
       "      <td>female</td>\n",
       "      <td>2007</td>\n",
       "    </tr>\n",
       "    <tr>\n",
       "      <th>2</th>\n",
       "      <td>Adelie</td>\n",
       "      <td>Torgersen</td>\n",
       "      <td>40.3</td>\n",
       "      <td>18.0</td>\n",
       "      <td>195.0</td>\n",
       "      <td>3250.0</td>\n",
       "      <td>female</td>\n",
       "      <td>2007</td>\n",
       "    </tr>\n",
       "    <tr>\n",
       "      <th>3</th>\n",
       "      <td>Adelie</td>\n",
       "      <td>Torgersen</td>\n",
       "      <td>NaN</td>\n",
       "      <td>NaN</td>\n",
       "      <td>NaN</td>\n",
       "      <td>NaN</td>\n",
       "      <td>NaN</td>\n",
       "      <td>2007</td>\n",
       "    </tr>\n",
       "    <tr>\n",
       "      <th>4</th>\n",
       "      <td>Adelie</td>\n",
       "      <td>Torgersen</td>\n",
       "      <td>36.7</td>\n",
       "      <td>19.3</td>\n",
       "      <td>193.0</td>\n",
       "      <td>3450.0</td>\n",
       "      <td>female</td>\n",
       "      <td>2007</td>\n",
       "    </tr>\n",
       "    <tr>\n",
       "      <th>...</th>\n",
       "      <td>...</td>\n",
       "      <td>...</td>\n",
       "      <td>...</td>\n",
       "      <td>...</td>\n",
       "      <td>...</td>\n",
       "      <td>...</td>\n",
       "      <td>...</td>\n",
       "      <td>...</td>\n",
       "    </tr>\n",
       "    <tr>\n",
       "      <th>339</th>\n",
       "      <td>Chinstrap</td>\n",
       "      <td>Dream</td>\n",
       "      <td>55.8</td>\n",
       "      <td>19.8</td>\n",
       "      <td>207.0</td>\n",
       "      <td>4000.0</td>\n",
       "      <td>male</td>\n",
       "      <td>2009</td>\n",
       "    </tr>\n",
       "    <tr>\n",
       "      <th>340</th>\n",
       "      <td>Chinstrap</td>\n",
       "      <td>Dream</td>\n",
       "      <td>43.5</td>\n",
       "      <td>18.1</td>\n",
       "      <td>202.0</td>\n",
       "      <td>3400.0</td>\n",
       "      <td>female</td>\n",
       "      <td>2009</td>\n",
       "    </tr>\n",
       "    <tr>\n",
       "      <th>341</th>\n",
       "      <td>Chinstrap</td>\n",
       "      <td>Dream</td>\n",
       "      <td>49.6</td>\n",
       "      <td>18.2</td>\n",
       "      <td>193.0</td>\n",
       "      <td>3775.0</td>\n",
       "      <td>male</td>\n",
       "      <td>2009</td>\n",
       "    </tr>\n",
       "    <tr>\n",
       "      <th>342</th>\n",
       "      <td>Chinstrap</td>\n",
       "      <td>Dream</td>\n",
       "      <td>50.8</td>\n",
       "      <td>19.0</td>\n",
       "      <td>210.0</td>\n",
       "      <td>4100.0</td>\n",
       "      <td>male</td>\n",
       "      <td>2009</td>\n",
       "    </tr>\n",
       "    <tr>\n",
       "      <th>343</th>\n",
       "      <td>Chinstrap</td>\n",
       "      <td>Dream</td>\n",
       "      <td>50.2</td>\n",
       "      <td>18.7</td>\n",
       "      <td>198.0</td>\n",
       "      <td>3775.0</td>\n",
       "      <td>female</td>\n",
       "      <td>2009</td>\n",
       "    </tr>\n",
       "  </tbody>\n",
       "</table>\n",
       "<p>344 rows × 8 columns</p>\n",
       "</div>"
      ],
      "text/plain": [
       "       species     island  bill_length_mm  bill_depth_mm  flipper_length_mm  \\\n",
       "0       Adelie  Torgersen            39.1           18.7              181.0   \n",
       "1       Adelie  Torgersen            39.5           17.4              186.0   \n",
       "2       Adelie  Torgersen            40.3           18.0              195.0   \n",
       "3       Adelie  Torgersen             NaN            NaN                NaN   \n",
       "4       Adelie  Torgersen            36.7           19.3              193.0   \n",
       "..         ...        ...             ...            ...                ...   \n",
       "339  Chinstrap      Dream            55.8           19.8              207.0   \n",
       "340  Chinstrap      Dream            43.5           18.1              202.0   \n",
       "341  Chinstrap      Dream            49.6           18.2              193.0   \n",
       "342  Chinstrap      Dream            50.8           19.0              210.0   \n",
       "343  Chinstrap      Dream            50.2           18.7              198.0   \n",
       "\n",
       "     body_mass_g     sex  year  \n",
       "0         3750.0    male  2007  \n",
       "1         3800.0  female  2007  \n",
       "2         3250.0  female  2007  \n",
       "3            NaN     NaN  2007  \n",
       "4         3450.0  female  2007  \n",
       "..           ...     ...   ...  \n",
       "339       4000.0    male  2009  \n",
       "340       3400.0  female  2009  \n",
       "341       3775.0    male  2009  \n",
       "342       4100.0    male  2009  \n",
       "343       3775.0  female  2009  \n",
       "\n",
       "[344 rows x 8 columns]"
      ]
     },
     "execution_count": 160,
     "metadata": {},
     "output_type": "execute_result"
    }
   ],
   "source": [
    "bird"
   ]
  },
  {
   "cell_type": "markdown",
   "id": "e55d0a6f-3a06-4b6a-a4d5-0f767acf90f8",
   "metadata": {},
   "source": [
    "<h1>Descriptive Analytics</h1>"
   ]
  },
  {
   "cell_type": "code",
   "execution_count": 161,
   "id": "d8dd3e72-56e6-42de-abff-32fca550d5ee",
   "metadata": {},
   "outputs": [
    {
     "data": {
      "text/html": [
       "<div>\n",
       "<style scoped>\n",
       "    .dataframe tbody tr th:only-of-type {\n",
       "        vertical-align: middle;\n",
       "    }\n",
       "\n",
       "    .dataframe tbody tr th {\n",
       "        vertical-align: top;\n",
       "    }\n",
       "\n",
       "    .dataframe thead th {\n",
       "        text-align: right;\n",
       "    }\n",
       "</style>\n",
       "<table border=\"1\" class=\"dataframe\">\n",
       "  <thead>\n",
       "    <tr style=\"text-align: right;\">\n",
       "      <th></th>\n",
       "      <th>bill_length_mm</th>\n",
       "      <th>bill_depth_mm</th>\n",
       "      <th>flipper_length_mm</th>\n",
       "      <th>body_mass_g</th>\n",
       "      <th>year</th>\n",
       "    </tr>\n",
       "  </thead>\n",
       "  <tbody>\n",
       "    <tr>\n",
       "      <th>count</th>\n",
       "      <td>342.000000</td>\n",
       "      <td>342.000000</td>\n",
       "      <td>342.000000</td>\n",
       "      <td>342.000000</td>\n",
       "      <td>344.000000</td>\n",
       "    </tr>\n",
       "    <tr>\n",
       "      <th>mean</th>\n",
       "      <td>43.921930</td>\n",
       "      <td>17.151170</td>\n",
       "      <td>200.915205</td>\n",
       "      <td>4201.754386</td>\n",
       "      <td>2008.029070</td>\n",
       "    </tr>\n",
       "    <tr>\n",
       "      <th>std</th>\n",
       "      <td>5.459584</td>\n",
       "      <td>1.974793</td>\n",
       "      <td>14.061714</td>\n",
       "      <td>801.954536</td>\n",
       "      <td>0.818356</td>\n",
       "    </tr>\n",
       "    <tr>\n",
       "      <th>min</th>\n",
       "      <td>32.100000</td>\n",
       "      <td>13.100000</td>\n",
       "      <td>172.000000</td>\n",
       "      <td>2700.000000</td>\n",
       "      <td>2007.000000</td>\n",
       "    </tr>\n",
       "    <tr>\n",
       "      <th>25%</th>\n",
       "      <td>39.225000</td>\n",
       "      <td>15.600000</td>\n",
       "      <td>190.000000</td>\n",
       "      <td>3550.000000</td>\n",
       "      <td>2007.000000</td>\n",
       "    </tr>\n",
       "    <tr>\n",
       "      <th>50%</th>\n",
       "      <td>44.450000</td>\n",
       "      <td>17.300000</td>\n",
       "      <td>197.000000</td>\n",
       "      <td>4050.000000</td>\n",
       "      <td>2008.000000</td>\n",
       "    </tr>\n",
       "    <tr>\n",
       "      <th>75%</th>\n",
       "      <td>48.500000</td>\n",
       "      <td>18.700000</td>\n",
       "      <td>213.000000</td>\n",
       "      <td>4750.000000</td>\n",
       "      <td>2009.000000</td>\n",
       "    </tr>\n",
       "    <tr>\n",
       "      <th>max</th>\n",
       "      <td>59.600000</td>\n",
       "      <td>21.500000</td>\n",
       "      <td>231.000000</td>\n",
       "      <td>6300.000000</td>\n",
       "      <td>2009.000000</td>\n",
       "    </tr>\n",
       "  </tbody>\n",
       "</table>\n",
       "</div>"
      ],
      "text/plain": [
       "       bill_length_mm  bill_depth_mm  flipper_length_mm  body_mass_g  \\\n",
       "count      342.000000     342.000000         342.000000   342.000000   \n",
       "mean        43.921930      17.151170         200.915205  4201.754386   \n",
       "std          5.459584       1.974793          14.061714   801.954536   \n",
       "min         32.100000      13.100000         172.000000  2700.000000   \n",
       "25%         39.225000      15.600000         190.000000  3550.000000   \n",
       "50%         44.450000      17.300000         197.000000  4050.000000   \n",
       "75%         48.500000      18.700000         213.000000  4750.000000   \n",
       "max         59.600000      21.500000         231.000000  6300.000000   \n",
       "\n",
       "              year  \n",
       "count   344.000000  \n",
       "mean   2008.029070  \n",
       "std       0.818356  \n",
       "min    2007.000000  \n",
       "25%    2007.000000  \n",
       "50%    2008.000000  \n",
       "75%    2009.000000  \n",
       "max    2009.000000  "
      ]
     },
     "execution_count": 161,
     "metadata": {},
     "output_type": "execute_result"
    }
   ],
   "source": [
    "bird.describe()"
   ]
  },
  {
   "cell_type": "code",
   "execution_count": 162,
   "id": "36ac56c8-217b-4b5e-b8ca-4b3ee0bd8bc6",
   "metadata": {},
   "outputs": [
    {
     "data": {
      "text/html": [
       "<div>\n",
       "<style scoped>\n",
       "    .dataframe tbody tr th:only-of-type {\n",
       "        vertical-align: middle;\n",
       "    }\n",
       "\n",
       "    .dataframe tbody tr th {\n",
       "        vertical-align: top;\n",
       "    }\n",
       "\n",
       "    .dataframe thead th {\n",
       "        text-align: right;\n",
       "    }\n",
       "</style>\n",
       "<table border=\"1\" class=\"dataframe\">\n",
       "  <thead>\n",
       "    <tr style=\"text-align: right;\">\n",
       "      <th></th>\n",
       "      <th>count</th>\n",
       "      <th>mean</th>\n",
       "      <th>std</th>\n",
       "      <th>min</th>\n",
       "      <th>25%</th>\n",
       "      <th>50%</th>\n",
       "      <th>75%</th>\n",
       "      <th>max</th>\n",
       "    </tr>\n",
       "  </thead>\n",
       "  <tbody>\n",
       "    <tr>\n",
       "      <th>bill_length_mm</th>\n",
       "      <td>342.0</td>\n",
       "      <td>43.921930</td>\n",
       "      <td>5.459584</td>\n",
       "      <td>32.1</td>\n",
       "      <td>39.225</td>\n",
       "      <td>44.45</td>\n",
       "      <td>48.5</td>\n",
       "      <td>59.6</td>\n",
       "    </tr>\n",
       "    <tr>\n",
       "      <th>bill_depth_mm</th>\n",
       "      <td>342.0</td>\n",
       "      <td>17.151170</td>\n",
       "      <td>1.974793</td>\n",
       "      <td>13.1</td>\n",
       "      <td>15.600</td>\n",
       "      <td>17.30</td>\n",
       "      <td>18.7</td>\n",
       "      <td>21.5</td>\n",
       "    </tr>\n",
       "    <tr>\n",
       "      <th>flipper_length_mm</th>\n",
       "      <td>342.0</td>\n",
       "      <td>200.915205</td>\n",
       "      <td>14.061714</td>\n",
       "      <td>172.0</td>\n",
       "      <td>190.000</td>\n",
       "      <td>197.00</td>\n",
       "      <td>213.0</td>\n",
       "      <td>231.0</td>\n",
       "    </tr>\n",
       "    <tr>\n",
       "      <th>body_mass_g</th>\n",
       "      <td>342.0</td>\n",
       "      <td>4201.754386</td>\n",
       "      <td>801.954536</td>\n",
       "      <td>2700.0</td>\n",
       "      <td>3550.000</td>\n",
       "      <td>4050.00</td>\n",
       "      <td>4750.0</td>\n",
       "      <td>6300.0</td>\n",
       "    </tr>\n",
       "    <tr>\n",
       "      <th>year</th>\n",
       "      <td>344.0</td>\n",
       "      <td>2008.029070</td>\n",
       "      <td>0.818356</td>\n",
       "      <td>2007.0</td>\n",
       "      <td>2007.000</td>\n",
       "      <td>2008.00</td>\n",
       "      <td>2009.0</td>\n",
       "      <td>2009.0</td>\n",
       "    </tr>\n",
       "  </tbody>\n",
       "</table>\n",
       "</div>"
      ],
      "text/plain": [
       "                   count         mean         std     min       25%      50%  \\\n",
       "bill_length_mm     342.0    43.921930    5.459584    32.1    39.225    44.45   \n",
       "bill_depth_mm      342.0    17.151170    1.974793    13.1    15.600    17.30   \n",
       "flipper_length_mm  342.0   200.915205   14.061714   172.0   190.000   197.00   \n",
       "body_mass_g        342.0  4201.754386  801.954536  2700.0  3550.000  4050.00   \n",
       "year               344.0  2008.029070    0.818356  2007.0  2007.000  2008.00   \n",
       "\n",
       "                      75%     max  \n",
       "bill_length_mm       48.5    59.6  \n",
       "bill_depth_mm        18.7    21.5  \n",
       "flipper_length_mm   213.0   231.0  \n",
       "body_mass_g        4750.0  6300.0  \n",
       "year               2009.0  2009.0  "
      ]
     },
     "execution_count": 162,
     "metadata": {},
     "output_type": "execute_result"
    }
   ],
   "source": [
    "bird.describe().T"
   ]
  },
  {
   "cell_type": "markdown",
   "id": "545945b8-30ad-485e-8dbb-d79302b1ea43",
   "metadata": {},
   "source": [
    "<h1>Filtering Column/Data</h1>"
   ]
  },
  {
   "cell_type": "code",
   "execution_count": 163,
   "id": "3171abd1-5097-4ff7-87f1-fd9c5b8a2109",
   "metadata": {},
   "outputs": [
    {
     "data": {
      "text/plain": [
       "0         Adelie\n",
       "1         Adelie\n",
       "2         Adelie\n",
       "3         Adelie\n",
       "4         Adelie\n",
       "         ...    \n",
       "339    Chinstrap\n",
       "340    Chinstrap\n",
       "341    Chinstrap\n",
       "342    Chinstrap\n",
       "343    Chinstrap\n",
       "Name: species, Length: 344, dtype: object"
      ]
     },
     "execution_count": 163,
     "metadata": {},
     "output_type": "execute_result"
    }
   ],
   "source": [
    "bird['species']"
   ]
  },
  {
   "cell_type": "code",
   "execution_count": 164,
   "id": "01284211-5ca9-4953-bfc8-14a9ef95a312",
   "metadata": {},
   "outputs": [],
   "source": [
    "Adelie_df = bird[bird['species'] == \"Adelie\"]"
   ]
  },
  {
   "cell_type": "code",
   "execution_count": 165,
   "id": "50f27a4b-f0a1-4a4f-88fd-b47504f9e3f2",
   "metadata": {},
   "outputs": [
    {
     "data": {
      "text/html": [
       "<div>\n",
       "<style scoped>\n",
       "    .dataframe tbody tr th:only-of-type {\n",
       "        vertical-align: middle;\n",
       "    }\n",
       "\n",
       "    .dataframe tbody tr th {\n",
       "        vertical-align: top;\n",
       "    }\n",
       "\n",
       "    .dataframe thead th {\n",
       "        text-align: right;\n",
       "    }\n",
       "</style>\n",
       "<table border=\"1\" class=\"dataframe\">\n",
       "  <thead>\n",
       "    <tr style=\"text-align: right;\">\n",
       "      <th></th>\n",
       "      <th>species</th>\n",
       "      <th>island</th>\n",
       "      <th>bill_length_mm</th>\n",
       "      <th>bill_depth_mm</th>\n",
       "      <th>flipper_length_mm</th>\n",
       "      <th>body_mass_g</th>\n",
       "      <th>sex</th>\n",
       "      <th>year</th>\n",
       "    </tr>\n",
       "  </thead>\n",
       "  <tbody>\n",
       "    <tr>\n",
       "      <th>0</th>\n",
       "      <td>Adelie</td>\n",
       "      <td>Torgersen</td>\n",
       "      <td>39.1</td>\n",
       "      <td>18.7</td>\n",
       "      <td>181.0</td>\n",
       "      <td>3750.0</td>\n",
       "      <td>male</td>\n",
       "      <td>2007</td>\n",
       "    </tr>\n",
       "    <tr>\n",
       "      <th>1</th>\n",
       "      <td>Adelie</td>\n",
       "      <td>Torgersen</td>\n",
       "      <td>39.5</td>\n",
       "      <td>17.4</td>\n",
       "      <td>186.0</td>\n",
       "      <td>3800.0</td>\n",
       "      <td>female</td>\n",
       "      <td>2007</td>\n",
       "    </tr>\n",
       "    <tr>\n",
       "      <th>2</th>\n",
       "      <td>Adelie</td>\n",
       "      <td>Torgersen</td>\n",
       "      <td>40.3</td>\n",
       "      <td>18.0</td>\n",
       "      <td>195.0</td>\n",
       "      <td>3250.0</td>\n",
       "      <td>female</td>\n",
       "      <td>2007</td>\n",
       "    </tr>\n",
       "    <tr>\n",
       "      <th>3</th>\n",
       "      <td>Adelie</td>\n",
       "      <td>Torgersen</td>\n",
       "      <td>NaN</td>\n",
       "      <td>NaN</td>\n",
       "      <td>NaN</td>\n",
       "      <td>NaN</td>\n",
       "      <td>NaN</td>\n",
       "      <td>2007</td>\n",
       "    </tr>\n",
       "    <tr>\n",
       "      <th>4</th>\n",
       "      <td>Adelie</td>\n",
       "      <td>Torgersen</td>\n",
       "      <td>36.7</td>\n",
       "      <td>19.3</td>\n",
       "      <td>193.0</td>\n",
       "      <td>3450.0</td>\n",
       "      <td>female</td>\n",
       "      <td>2007</td>\n",
       "    </tr>\n",
       "    <tr>\n",
       "      <th>...</th>\n",
       "      <td>...</td>\n",
       "      <td>...</td>\n",
       "      <td>...</td>\n",
       "      <td>...</td>\n",
       "      <td>...</td>\n",
       "      <td>...</td>\n",
       "      <td>...</td>\n",
       "      <td>...</td>\n",
       "    </tr>\n",
       "    <tr>\n",
       "      <th>147</th>\n",
       "      <td>Adelie</td>\n",
       "      <td>Dream</td>\n",
       "      <td>36.6</td>\n",
       "      <td>18.4</td>\n",
       "      <td>184.0</td>\n",
       "      <td>3475.0</td>\n",
       "      <td>female</td>\n",
       "      <td>2009</td>\n",
       "    </tr>\n",
       "    <tr>\n",
       "      <th>148</th>\n",
       "      <td>Adelie</td>\n",
       "      <td>Dream</td>\n",
       "      <td>36.0</td>\n",
       "      <td>17.8</td>\n",
       "      <td>195.0</td>\n",
       "      <td>3450.0</td>\n",
       "      <td>female</td>\n",
       "      <td>2009</td>\n",
       "    </tr>\n",
       "    <tr>\n",
       "      <th>149</th>\n",
       "      <td>Adelie</td>\n",
       "      <td>Dream</td>\n",
       "      <td>37.8</td>\n",
       "      <td>18.1</td>\n",
       "      <td>193.0</td>\n",
       "      <td>3750.0</td>\n",
       "      <td>male</td>\n",
       "      <td>2009</td>\n",
       "    </tr>\n",
       "    <tr>\n",
       "      <th>150</th>\n",
       "      <td>Adelie</td>\n",
       "      <td>Dream</td>\n",
       "      <td>36.0</td>\n",
       "      <td>17.1</td>\n",
       "      <td>187.0</td>\n",
       "      <td>3700.0</td>\n",
       "      <td>female</td>\n",
       "      <td>2009</td>\n",
       "    </tr>\n",
       "    <tr>\n",
       "      <th>151</th>\n",
       "      <td>Adelie</td>\n",
       "      <td>Dream</td>\n",
       "      <td>41.5</td>\n",
       "      <td>18.5</td>\n",
       "      <td>201.0</td>\n",
       "      <td>4000.0</td>\n",
       "      <td>male</td>\n",
       "      <td>2009</td>\n",
       "    </tr>\n",
       "  </tbody>\n",
       "</table>\n",
       "<p>152 rows × 8 columns</p>\n",
       "</div>"
      ],
      "text/plain": [
       "    species     island  bill_length_mm  bill_depth_mm  flipper_length_mm  \\\n",
       "0    Adelie  Torgersen            39.1           18.7              181.0   \n",
       "1    Adelie  Torgersen            39.5           17.4              186.0   \n",
       "2    Adelie  Torgersen            40.3           18.0              195.0   \n",
       "3    Adelie  Torgersen             NaN            NaN                NaN   \n",
       "4    Adelie  Torgersen            36.7           19.3              193.0   \n",
       "..      ...        ...             ...            ...                ...   \n",
       "147  Adelie      Dream            36.6           18.4              184.0   \n",
       "148  Adelie      Dream            36.0           17.8              195.0   \n",
       "149  Adelie      Dream            37.8           18.1              193.0   \n",
       "150  Adelie      Dream            36.0           17.1              187.0   \n",
       "151  Adelie      Dream            41.5           18.5              201.0   \n",
       "\n",
       "     body_mass_g     sex  year  \n",
       "0         3750.0    male  2007  \n",
       "1         3800.0  female  2007  \n",
       "2         3250.0  female  2007  \n",
       "3            NaN     NaN  2007  \n",
       "4         3450.0  female  2007  \n",
       "..           ...     ...   ...  \n",
       "147       3475.0  female  2009  \n",
       "148       3450.0  female  2009  \n",
       "149       3750.0    male  2009  \n",
       "150       3700.0  female  2009  \n",
       "151       4000.0    male  2009  \n",
       "\n",
       "[152 rows x 8 columns]"
      ]
     },
     "execution_count": 165,
     "metadata": {},
     "output_type": "execute_result"
    }
   ],
   "source": [
    "Adelie_df"
   ]
  },
  {
   "cell_type": "code",
   "execution_count": 166,
   "id": "af30c124-0a57-407d-8cb5-4c41d7b6152c",
   "metadata": {},
   "outputs": [],
   "source": [
    "Adelie_df = bird['body_mass_g'].mean()"
   ]
  },
  {
   "cell_type": "code",
   "execution_count": 167,
   "id": "73ef1b12-5a28-45bb-8002-f395f825ea37",
   "metadata": {},
   "outputs": [
    {
     "data": {
      "text/plain": [
       "species\n",
       "Adelie       152\n",
       "Gentoo       124\n",
       "Chinstrap     68\n",
       "Name: count, dtype: int64"
      ]
     },
     "execution_count": 167,
     "metadata": {},
     "output_type": "execute_result"
    }
   ],
   "source": [
    "bird['species'].value_counts()"
   ]
  },
  {
   "cell_type": "code",
   "execution_count": null,
   "id": "e86aff2f-e929-4802-bb8c-31d702ba524b",
   "metadata": {},
   "outputs": [],
   "source": []
  },
  {
   "cell_type": "code",
   "execution_count": 168,
   "id": "3de5cdec-7379-41cf-9d9b-72e63b60d3d1",
   "metadata": {},
   "outputs": [],
   "source": [
    "adelie_run_df = bird['species']"
   ]
  },
  {
   "cell_type": "markdown",
   "id": "5788d129-cc5e-459f-8134-58f19f48229b",
   "metadata": {},
   "source": [
    "<h1>Cleaning the Data Frame</h1>"
   ]
  },
  {
   "cell_type": "code",
   "execution_count": 169,
   "id": "a1d765f8-7bc5-4464-aed7-fc200b55af90",
   "metadata": {},
   "outputs": [
    {
     "data": {
      "text/plain": [
       "species               0\n",
       "island                0\n",
       "bill_length_mm        2\n",
       "bill_depth_mm         2\n",
       "flipper_length_mm     2\n",
       "body_mass_g           2\n",
       "sex                  11\n",
       "year                  0\n",
       "dtype: int64"
      ]
     },
     "execution_count": 169,
     "metadata": {},
     "output_type": "execute_result"
    }
   ],
   "source": [
    "bird.isnull().sum()"
   ]
  },
  {
   "cell_type": "markdown",
   "id": "9206f29b-6489-4818-8916-0638a6b9080e",
   "metadata": {},
   "source": [
    "<h1>What to do with all the NULL VALUES?</h1>"
   ]
  },
  {
   "cell_type": "code",
   "execution_count": 170,
   "id": "ebb04f23-0b84-47a9-a017-e2aa31d7f7f6",
   "metadata": {},
   "outputs": [
    {
     "data": {
      "text/plain": [
       "43.9219298245614"
      ]
     },
     "execution_count": 170,
     "metadata": {},
     "output_type": "execute_result"
    }
   ],
   "source": [
    "bird['bill_length_mm'].mean()"
   ]
  },
  {
   "cell_type": "code",
   "execution_count": 171,
   "id": "db483309-02e9-46ec-9c50-247d15d398ac",
   "metadata": {},
   "outputs": [
    {
     "data": {
      "text/plain": [
       "0    male\n",
       "Name: sex, dtype: object"
      ]
     },
     "execution_count": 171,
     "metadata": {},
     "output_type": "execute_result"
    }
   ],
   "source": [
    "bird['sex'].mode()"
   ]
  },
  {
   "cell_type": "markdown",
   "id": "de0d6523-9764-48fd-af54-d61676d8aaf2",
   "metadata": {},
   "source": [
    "<h1>How to Fillup NULL VALUES</h1>"
   ]
  },
  {
   "cell_type": "code",
   "execution_count": 172,
   "id": "97cff25b-c567-4c62-8a32-96e6a1267ed9",
   "metadata": {},
   "outputs": [],
   "source": [
    "bird['bill_length_mm']= bird['bill_length_mm'].fillna(bird['bill_length_mm'].mean())\n",
    "bird['bill_depth_mm']= bird['bill_depth_mm'].fillna(bird['bill_depth_mm'].mean())\n",
    "bird['flipper_length_mm']= bird['flipper_length_mm'].fillna(bird['flipper_length_mm'].mean())\n",
    "bird['body_mass_g']= bird['body_mass_g'].fillna(bird['body_mass_g'].mean())"
   ]
  },
  {
   "cell_type": "code",
   "execution_count": 173,
   "id": "791767b0-df8a-4d20-8712-8d423cc385eb",
   "metadata": {},
   "outputs": [],
   "source": [
    "bird['sex'] = bird['sex'].fillna(bird['sex'].mode()[0])"
   ]
  },
  {
   "cell_type": "code",
   "execution_count": 174,
   "id": "03b1927c-d6ae-4466-8d09-290365c10b88",
   "metadata": {},
   "outputs": [
    {
     "data": {
      "text/plain": [
       "species              0\n",
       "island               0\n",
       "bill_length_mm       0\n",
       "bill_depth_mm        0\n",
       "flipper_length_mm    0\n",
       "body_mass_g          0\n",
       "sex                  0\n",
       "year                 0\n",
       "dtype: int64"
      ]
     },
     "execution_count": 174,
     "metadata": {},
     "output_type": "execute_result"
    }
   ],
   "source": [
    "bird.isnull().sum()"
   ]
  },
  {
   "cell_type": "code",
   "execution_count": 175,
   "id": "e04813f5-98b1-460a-a81f-4ea720f52ea3",
   "metadata": {},
   "outputs": [],
   "source": [
    "bird['species'] = bird['species'].astype('category')\n",
    "bird['year'] = bird['year'].astype('category')\n",
    "bird['island'] = bird['island'].astype('category')\n",
    "bird['sex'] = bird['sex'].astype('category')"
   ]
  },
  {
   "cell_type": "code",
   "execution_count": 176,
   "id": "ae0088a4-91ad-46af-96bd-4644bdb8443c",
   "metadata": {},
   "outputs": [
    {
     "name": "stdout",
     "output_type": "stream",
     "text": [
      "<class 'pandas.core.frame.DataFrame'>\n",
      "RangeIndex: 344 entries, 0 to 343\n",
      "Data columns (total 8 columns):\n",
      " #   Column             Non-Null Count  Dtype   \n",
      "---  ------             --------------  -----   \n",
      " 0   species            344 non-null    category\n",
      " 1   island             344 non-null    category\n",
      " 2   bill_length_mm     344 non-null    float64 \n",
      " 3   bill_depth_mm      344 non-null    float64 \n",
      " 4   flipper_length_mm  344 non-null    float64 \n",
      " 5   body_mass_g        344 non-null    float64 \n",
      " 6   sex                344 non-null    category\n",
      " 7   year               344 non-null    category\n",
      "dtypes: category(4), float64(4)\n",
      "memory usage: 12.7 KB\n"
     ]
    }
   ],
   "source": [
    "bird.info()"
   ]
  },
  {
   "cell_type": "markdown",
   "id": "6e410193-a199-45d1-a802-2d61efb66f77",
   "metadata": {},
   "source": [
    "<h1>EXPLORATORY DATA ANALYSIS</h1>"
   ]
  },
  {
   "cell_type": "markdown",
   "id": "80868275-be5a-42cc-8c4b-a4670b94584a",
   "metadata": {},
   "source": [
    "Ano ang pinaka mabigat ng uri ng penguin"
   ]
  },
  {
   "cell_type": "markdown",
   "id": "3949844e-c77b-49e2-ade2-b8451505ca4b",
   "metadata": {},
   "source": [
    "<h1>Which species of Penguin amongst the dataset is the heviest?</h1>"
   ]
  },
  {
   "cell_type": "code",
   "execution_count": 177,
   "id": "fc8df8ce-7206-4fb0-873b-ada69e52ce77",
   "metadata": {},
   "outputs": [
    {
     "data": {
      "text/plain": [
       "4201.754385964912"
      ]
     },
     "execution_count": 177,
     "metadata": {},
     "output_type": "execute_result"
    }
   ],
   "source": [
    "bird['body_mass_g'].mean()"
   ]
  },
  {
   "cell_type": "code",
   "execution_count": 178,
   "id": "70c562d3-e2f7-4236-a3ae-c001c6c26864",
   "metadata": {},
   "outputs": [
    {
     "data": {
      "text/plain": [
       "0       True\n",
       "1       True\n",
       "2       True\n",
       "3       True\n",
       "4       True\n",
       "       ...  \n",
       "339    False\n",
       "340    False\n",
       "341    False\n",
       "342    False\n",
       "343    False\n",
       "Name: species, Length: 344, dtype: bool"
      ]
     },
     "execution_count": 178,
     "metadata": {},
     "output_type": "execute_result"
    }
   ],
   "source": [
    "bird['species'] == 'Adelie'"
   ]
  },
  {
   "cell_type": "code",
   "execution_count": 179,
   "id": "55ea1978-4e5c-45b6-8baa-20875d92a9e9",
   "metadata": {},
   "outputs": [],
   "source": [
    "Adelie_df = bird[bird['body_mass_g'] == 'Adelie']['body_mass_g'].mean()"
   ]
  },
  {
   "cell_type": "markdown",
   "id": "d44380b1-9927-406d-9c4e-ec5911a9e040",
   "metadata": {},
   "source": [
    "<h2>Insights</h2>\n",
    "<h4>1.What species has the highest population?</h4>\n",
    "<h4>2.What is the correlation between bill length and bill depth?</h4>\n",
    "<h4>3.How many female penguin in the year 2009?</h4>\n",
    "<h4>4.What species has the heaviest in 2009?</h4>\n",
    "<h4>5.What is the correlation between body mass and bill length?</h4>\n",
    "<h4>6.What Adelie species has the highest in the Dream Island?</h4>\n",
    "<h4>7.What Adelie species has the highest in the TorgersenIsland?</h4>\n",
    "<h4>8.Which year has the most penguin records?</h4>\n",
    "<h4>9.Which island has the fewest penguins overalls?</h4>\n",
    "<h4>10.What is the average mass of Male and Female?</h4>\n",
    "<h4>11.What is the average bill length of Adelie penguins in Torgersen Island?</h4>\n",
    "<h4>12.How many penguins have body mass greater than 5000g?</h4>"
   ]
  },
  {
   "cell_type": "code",
   "execution_count": 180,
   "id": "71255361-9cce-4d7d-860d-b9abf4e0b355",
   "metadata": {},
   "outputs": [],
   "source": [
    "#1\n",
    "S_H_P = bird['species'].value_counts()"
   ]
  },
  {
   "cell_type": "code",
   "execution_count": 181,
   "id": "2e9622e1-b7de-46c0-803e-c44d2f3dddb5",
   "metadata": {},
   "outputs": [
    {
     "data": {
      "text/plain": [
       "species\n",
       "Adelie       152\n",
       "Gentoo       124\n",
       "Chinstrap     68\n",
       "Name: count, dtype: int64"
      ]
     },
     "execution_count": 181,
     "metadata": {},
     "output_type": "execute_result"
    }
   ],
   "source": [
    "S_H_P"
   ]
  },
  {
   "cell_type": "markdown",
   "id": "b764a662-e35a-4bd8-8bd2-7daf845762d3",
   "metadata": {},
   "source": [
    "Insights:Therefore the highest population species was Adelie."
   ]
  },
  {
   "cell_type": "code",
   "execution_count": 182,
   "id": "3a983a35-34ca-42be-a9e1-d7321be66211",
   "metadata": {},
   "outputs": [],
   "source": [
    "#2\n",
    "C_L_D = bird['bill_length_mm'].corr(bird['bill_depth_mm'])"
   ]
  },
  {
   "cell_type": "code",
   "execution_count": 183,
   "id": "4c6b83f3-12e7-43e9-af21-a195704dfd8f",
   "metadata": {},
   "outputs": [
    {
     "data": {
      "text/plain": [
       "-0.23505287035553282"
      ]
     },
     "execution_count": 183,
     "metadata": {},
     "output_type": "execute_result"
    }
   ],
   "source": [
    "C_L_D"
   ]
  },
  {
   "cell_type": "markdown",
   "id": "312cd344-5ec8-4b4e-8d07-c081d91acd7e",
   "metadata": {},
   "source": [
    "Insights:The total correlation between bill length and bill depth was -0.23505287035553282."
   ]
  },
  {
   "cell_type": "code",
   "execution_count": 184,
   "id": "caac84df-7084-418e-ac37-0580a0db2ab8",
   "metadata": {},
   "outputs": [],
   "source": [
    "#3\n",
    "F_P_Y = bird[(bird['sex'] == 'female') & (bird['year'] == 2009)].shape[0]"
   ]
  },
  {
   "cell_type": "code",
   "execution_count": 185,
   "id": "4ce89651-4ab4-4bb2-9598-67abcf457365",
   "metadata": {},
   "outputs": [
    {
     "data": {
      "text/plain": [
       "58"
      ]
     },
     "execution_count": 185,
     "metadata": {},
     "output_type": "execute_result"
    }
   ],
   "source": [
    "F_P_Y"
   ]
  },
  {
   "cell_type": "markdown",
   "id": "3d3fe3b5-1894-4a02-921d-306d4fae96f4",
   "metadata": {},
   "source": [
    "Insights: The total female penguin in the year 2009 is 58."
   ]
  },
  {
   "cell_type": "code",
   "execution_count": 186,
   "id": "6e66a9da-b066-4549-b4bb-7859404f703e",
   "metadata": {},
   "outputs": [],
   "source": [
    "#4\n",
    "S_H_Y = bird[bird['year'] == 2009].groupby('species')['body_mass_g'].mean()"
   ]
  },
  {
   "cell_type": "code",
   "execution_count": 187,
   "id": "484bfdb4-7dae-41fd-8743-e18af7b5df64",
   "metadata": {},
   "outputs": [
    {
     "data": {
      "text/plain": [
       "species\n",
       "Adelie       3664.903846\n",
       "Chinstrap    3725.000000\n",
       "Gentoo       5119.358054\n",
       "Name: body_mass_g, dtype: float64"
      ]
     },
     "execution_count": 187,
     "metadata": {},
     "output_type": "execute_result"
    }
   ],
   "source": [
    "S_H_Y"
   ]
  },
  {
   "cell_type": "markdown",
   "id": "0d46b159-0185-4fae-be20-5fa2876608e1",
   "metadata": {},
   "source": [
    "Insights:The heaviest penguin with the body_mass_g was Gentoo with 5119.358054."
   ]
  },
  {
   "cell_type": "code",
   "execution_count": 188,
   "id": "ca5b9e5b-d879-44f1-9c36-2c0e311a7a7b",
   "metadata": {},
   "outputs": [],
   "source": [
    "#5\n",
    "C_B_L = bird['body_mass_g'].corr(bird['bill_length_mm'])"
   ]
  },
  {
   "cell_type": "code",
   "execution_count": 189,
   "id": "7b7393c0-129e-466f-98d8-78311b894ff2",
   "metadata": {},
   "outputs": [
    {
     "data": {
      "text/plain": [
       "0.5951098244376305"
      ]
     },
     "execution_count": 189,
     "metadata": {},
     "output_type": "execute_result"
    }
   ],
   "source": [
    "C_B_L"
   ]
  },
  {
   "cell_type": "markdown",
   "id": "ddac0bcd-5afc-40c4-baf4-473550a2713b",
   "metadata": {},
   "source": [
    "Insights:The correlation between body mass and bill length was 0.5951098244376305."
   ]
  },
  {
   "cell_type": "code",
   "execution_count": 190,
   "id": "edf301da-6a17-4899-a82f-24a8e7199f5d",
   "metadata": {},
   "outputs": [],
   "source": [
    "#6\n",
    "A_H_D = bird[(bird['species'] == 'Adelie') & (bird['island'] == 'Dream')].shape[0]"
   ]
  },
  {
   "cell_type": "code",
   "execution_count": 191,
   "id": "f639791b-02a5-4de0-b20c-d70b5d501af1",
   "metadata": {},
   "outputs": [
    {
     "data": {
      "text/plain": [
       "56"
      ]
     },
     "execution_count": 191,
     "metadata": {},
     "output_type": "execute_result"
    }
   ],
   "source": [
    "A_H_D"
   ]
  },
  {
   "cell_type": "markdown",
   "id": "8ca5bf77-aa94-4fae-9a9c-13c5d535dfb5",
   "metadata": {},
   "source": [
    "Insights:The Adelie species has the highest in the Dream Island has a 56 in total."
   ]
  },
  {
   "cell_type": "code",
   "execution_count": 192,
   "id": "aa082244-8013-4745-8d0a-dbc4586b71dc",
   "metadata": {},
   "outputs": [],
   "source": [
    "#7\n",
    "A_H_T = bird[(bird['species'] == 'Adelie') & (bird['island'] == 'Torgersen')].shape[0]"
   ]
  },
  {
   "cell_type": "code",
   "execution_count": 193,
   "id": "26462e4e-3755-45f2-9650-9d76e30ae695",
   "metadata": {},
   "outputs": [
    {
     "data": {
      "text/plain": [
       "52"
      ]
     },
     "execution_count": 193,
     "metadata": {},
     "output_type": "execute_result"
    }
   ],
   "source": [
    "A_H_T"
   ]
  },
  {
   "cell_type": "markdown",
   "id": "0faf2337-1942-4c9c-9872-40e50987fce9",
   "metadata": {},
   "source": [
    "Insights:The Adelie species has the highest in the TorgersenIsland has a 52 in total."
   ]
  },
  {
   "cell_type": "code",
   "execution_count": 194,
   "id": "3140ff5e-3dd2-4794-8907-b926a012c17b",
   "metadata": {},
   "outputs": [],
   "source": [
    "#8\n",
    "Y_M_P = bird['year'].value_counts()"
   ]
  },
  {
   "cell_type": "code",
   "execution_count": 195,
   "id": "8fcf8d5e-dc89-4e73-861d-05e7704381c1",
   "metadata": {},
   "outputs": [
    {
     "data": {
      "text/plain": [
       "year\n",
       "2009    120\n",
       "2008    114\n",
       "2007    110\n",
       "Name: count, dtype: int64"
      ]
     },
     "execution_count": 195,
     "metadata": {},
     "output_type": "execute_result"
    }
   ],
   "source": [
    "Y_M_P"
   ]
  },
  {
   "cell_type": "markdown",
   "id": "d4577d69-9013-47a6-849e-e6ca064aff32",
   "metadata": {},
   "source": [
    "Insights:The year has the most penguin records was year 2009 with a 120 penguins in total."
   ]
  },
  {
   "cell_type": "code",
   "execution_count": 196,
   "id": "ed83de7e-31e0-4769-8fdf-c4494d381ae1",
   "metadata": {},
   "outputs": [],
   "source": [
    "#9\n",
    "A_F_P = bird['island'].value_counts()"
   ]
  },
  {
   "cell_type": "code",
   "execution_count": 197,
   "id": "9c4c6796-1122-4cf8-b122-fbd973ba042b",
   "metadata": {},
   "outputs": [
    {
     "data": {
      "text/plain": [
       "island\n",
       "Biscoe       168\n",
       "Dream        124\n",
       "Torgersen     52\n",
       "Name: count, dtype: int64"
      ]
     },
     "execution_count": 197,
     "metadata": {},
     "output_type": "execute_result"
    }
   ],
   "source": [
    "A_F_P"
   ]
  },
  {
   "cell_type": "markdown",
   "id": "19af2996-9f05-41d9-ac13-f2566d419cb1",
   "metadata": {},
   "source": [
    "insights:The island has the fewest penguins overalls is Torgersen with a 52 penguins in total."
   ]
  },
  {
   "cell_type": "code",
   "execution_count": 198,
   "id": "6bbbdf48-3bd3-465f-8d30-504c3bcf271c",
   "metadata": {},
   "outputs": [],
   "source": [
    "#10\n",
    "A_M_F = bird.groupby('sex')['bill_length_mm'].mean()"
   ]
  },
  {
   "cell_type": "code",
   "execution_count": 199,
   "id": "eb2c2ce7-8bd7-41e4-a041-0296ae4c7928",
   "metadata": {},
   "outputs": [
    {
     "data": {
      "text/plain": [
       "sex\n",
       "female    42.096970\n",
       "male      45.604156\n",
       "Name: bill_length_mm, dtype: float64"
      ]
     },
     "execution_count": 199,
     "metadata": {},
     "output_type": "execute_result"
    }
   ],
   "source": [
    "A_M_F"
   ]
  },
  {
   "cell_type": "markdown",
   "id": "2e1eda4b-f560-468d-aa92-a04161412111",
   "metadata": {},
   "source": [
    "insights: The average mass of Male and Female, A male with 45.604156 and a female with 42.096970."
   ]
  },
  {
   "cell_type": "code",
   "execution_count": 200,
   "id": "a74f5cbe-5f7c-4613-ac41-c3e1519cca56",
   "metadata": {},
   "outputs": [],
   "source": [
    "#11\n",
    "A_B_L =bird[(bird['species'] == 'Adelie') & (bird['island'] == 'Torgersen')]['bill_length_mm'].mean()"
   ]
  },
  {
   "cell_type": "code",
   "execution_count": 201,
   "id": "9930b20d-d9b4-4ada-ab5a-721f33805142",
   "metadata": {},
   "outputs": [
    {
     "data": {
      "text/plain": [
       "39.046575573549255"
      ]
     },
     "execution_count": 201,
     "metadata": {},
     "output_type": "execute_result"
    }
   ],
   "source": [
    "A_B_L"
   ]
  },
  {
   "cell_type": "markdown",
   "id": "02f64e96-13ad-4387-a1f1-a862989dfce5",
   "metadata": {},
   "source": [
    "insights:The average bill length of Adelie penguins in Torgersen Island with the bill_length_mm of 39.046575573549255."
   ]
  },
  {
   "cell_type": "code",
   "execution_count": 202,
   "id": "85c4cccc-8c8b-4244-aae3-52575976ee49",
   "metadata": {},
   "outputs": [],
   "source": [
    "#12\n",
    "B_M_G = bird[bird['body_mass_g'] > 5000].shape[0]"
   ]
  },
  {
   "cell_type": "code",
   "execution_count": 203,
   "id": "f32bac7c-5a14-48ed-8d06-9ae8cf2a0d23",
   "metadata": {},
   "outputs": [
    {
     "data": {
      "text/plain": [
       "61"
      ]
     },
     "execution_count": 203,
     "metadata": {},
     "output_type": "execute_result"
    }
   ],
   "source": [
    "B_M_G"
   ]
  },
  {
   "cell_type": "markdown",
   "id": "0d4f21e2-8471-4880-a5fb-0d99328da484",
   "metadata": {},
   "source": [
    "insights:The total of penguins have body mass greater than 5000g is 61 penguins in total."
   ]
  },
  {
   "cell_type": "code",
   "execution_count": null,
   "id": "74b506b2-69df-48fe-9f01-ed8d3c315e40",
   "metadata": {},
   "outputs": [],
   "source": []
  },
  {
   "cell_type": "code",
   "execution_count": null,
   "id": "d4b73830-97b7-47a0-b99d-d170e0cb8f22",
   "metadata": {},
   "outputs": [],
   "source": []
  }
 ],
 "metadata": {
  "kernelspec": {
   "display_name": "Python 3 (ipykernel)",
   "language": "python",
   "name": "python3"
  },
  "language_info": {
   "codemirror_mode": {
    "name": "ipython",
    "version": 3
   },
   "file_extension": ".py",
   "mimetype": "text/x-python",
   "name": "python",
   "nbconvert_exporter": "python",
   "pygments_lexer": "ipython3",
   "version": "3.11.3"
  }
 },
 "nbformat": 4,
 "nbformat_minor": 5
}
