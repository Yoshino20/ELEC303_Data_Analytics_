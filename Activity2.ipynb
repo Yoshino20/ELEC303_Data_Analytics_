{
 "cells": [
  {
   "cell_type": "code",
   "execution_count": 1,
   "id": "3a17282c-e651-4243-99f4-7113691ebe0e",
   "metadata": {},
   "outputs": [],
   "source": [
    "import numpy as np\n",
    "import pandas as pd\n",
    "import warnings\n",
    "warnings.filterwarnings ('ignore')\n",
    "import matplotlib.pyplot as plt"
   ]
  },
  {
   "cell_type": "code",
   "execution_count": 2,
   "id": "0921d2d3-5480-47e3-9286-22e4651ba9f3",
   "metadata": {},
   "outputs": [],
   "source": [
    "accident = pd.read_csv('datasets\\\\accident_data.csv')"
   ]
  },
  {
   "cell_type": "code",
   "execution_count": 3,
   "id": "745f40c7-ddd9-4321-8208-a2e8f66f2cdc",
   "metadata": {},
   "outputs": [
    {
     "data": {
      "text/html": [
       "<div>\n",
       "<style scoped>\n",
       "    .dataframe tbody tr th:only-of-type {\n",
       "        vertical-align: middle;\n",
       "    }\n",
       "\n",
       "    .dataframe tbody tr th {\n",
       "        vertical-align: top;\n",
       "    }\n",
       "\n",
       "    .dataframe thead th {\n",
       "        text-align: right;\n",
       "    }\n",
       "</style>\n",
       "<table border=\"1\" class=\"dataframe\">\n",
       "  <thead>\n",
       "    <tr style=\"text-align: right;\">\n",
       "      <th></th>\n",
       "      <th>Index</th>\n",
       "      <th>Accident_Severity</th>\n",
       "      <th>Accident Date</th>\n",
       "      <th>Latitude</th>\n",
       "      <th>Light_Conditions</th>\n",
       "      <th>District Area</th>\n",
       "      <th>Longitude</th>\n",
       "      <th>Number_of_Casualties</th>\n",
       "      <th>Number_of_Vehicles</th>\n",
       "      <th>Road_Surface_Conditions</th>\n",
       "      <th>Road_Type</th>\n",
       "      <th>Urban_or_Rural_Area</th>\n",
       "      <th>Weather_Conditions</th>\n",
       "      <th>Vehicle_Type</th>\n",
       "    </tr>\n",
       "  </thead>\n",
       "  <tbody>\n",
       "    <tr>\n",
       "      <th>0</th>\n",
       "      <td>200701BS64157</td>\n",
       "      <td>Serious</td>\n",
       "      <td>5/6/2019</td>\n",
       "      <td>51.506187</td>\n",
       "      <td>Darkness - lights lit</td>\n",
       "      <td>Kensington and Chelsea</td>\n",
       "      <td>-0.209082</td>\n",
       "      <td>1</td>\n",
       "      <td>2</td>\n",
       "      <td>Dry</td>\n",
       "      <td>Single carriageway</td>\n",
       "      <td>Urban</td>\n",
       "      <td>Fine no high winds</td>\n",
       "      <td>Car</td>\n",
       "    </tr>\n",
       "    <tr>\n",
       "      <th>1</th>\n",
       "      <td>200701BS65737</td>\n",
       "      <td>Serious</td>\n",
       "      <td>2/7/2019</td>\n",
       "      <td>51.495029</td>\n",
       "      <td>Daylight</td>\n",
       "      <td>Kensington and Chelsea</td>\n",
       "      <td>-0.173647</td>\n",
       "      <td>1</td>\n",
       "      <td>2</td>\n",
       "      <td>Wet or damp</td>\n",
       "      <td>Single carriageway</td>\n",
       "      <td>Urban</td>\n",
       "      <td>Raining no high winds</td>\n",
       "      <td>Car</td>\n",
       "    </tr>\n",
       "    <tr>\n",
       "      <th>2</th>\n",
       "      <td>200701BS66127</td>\n",
       "      <td>Serious</td>\n",
       "      <td>26-08-2019</td>\n",
       "      <td>51.517715</td>\n",
       "      <td>Darkness - lighting unknown</td>\n",
       "      <td>Kensington and Chelsea</td>\n",
       "      <td>-0.210215</td>\n",
       "      <td>1</td>\n",
       "      <td>3</td>\n",
       "      <td>Dry</td>\n",
       "      <td>NaN</td>\n",
       "      <td>Urban</td>\n",
       "      <td>NaN</td>\n",
       "      <td>Taxi/Private hire car</td>\n",
       "    </tr>\n",
       "    <tr>\n",
       "      <th>3</th>\n",
       "      <td>200701BS66128</td>\n",
       "      <td>Serious</td>\n",
       "      <td>16-08-2019</td>\n",
       "      <td>51.495478</td>\n",
       "      <td>Daylight</td>\n",
       "      <td>Kensington and Chelsea</td>\n",
       "      <td>-0.202731</td>\n",
       "      <td>1</td>\n",
       "      <td>4</td>\n",
       "      <td>Dry</td>\n",
       "      <td>Single carriageway</td>\n",
       "      <td>Urban</td>\n",
       "      <td>Fine no high winds</td>\n",
       "      <td>Bus or coach (17 or more pass seats)</td>\n",
       "    </tr>\n",
       "    <tr>\n",
       "      <th>4</th>\n",
       "      <td>200701BS66837</td>\n",
       "      <td>Slight</td>\n",
       "      <td>3/9/2019</td>\n",
       "      <td>51.488576</td>\n",
       "      <td>Darkness - lights lit</td>\n",
       "      <td>Kensington and Chelsea</td>\n",
       "      <td>-0.192487</td>\n",
       "      <td>1</td>\n",
       "      <td>2</td>\n",
       "      <td>Dry</td>\n",
       "      <td>NaN</td>\n",
       "      <td>Urban</td>\n",
       "      <td>NaN</td>\n",
       "      <td>Other vehicle</td>\n",
       "    </tr>\n",
       "    <tr>\n",
       "      <th>...</th>\n",
       "      <td>...</td>\n",
       "      <td>...</td>\n",
       "      <td>...</td>\n",
       "      <td>...</td>\n",
       "      <td>...</td>\n",
       "      <td>...</td>\n",
       "      <td>...</td>\n",
       "      <td>...</td>\n",
       "      <td>...</td>\n",
       "      <td>...</td>\n",
       "      <td>...</td>\n",
       "      <td>...</td>\n",
       "      <td>...</td>\n",
       "      <td>...</td>\n",
       "    </tr>\n",
       "    <tr>\n",
       "      <th>660674</th>\n",
       "      <td>201091NM01760</td>\n",
       "      <td>Slight</td>\n",
       "      <td>18-02-2022</td>\n",
       "      <td>57.374005</td>\n",
       "      <td>Daylight</td>\n",
       "      <td>Highland</td>\n",
       "      <td>-3.467828</td>\n",
       "      <td>2</td>\n",
       "      <td>1</td>\n",
       "      <td>Dry</td>\n",
       "      <td>Single carriageway</td>\n",
       "      <td>Rural</td>\n",
       "      <td>Fine no high winds</td>\n",
       "      <td>Car</td>\n",
       "    </tr>\n",
       "    <tr>\n",
       "      <th>660675</th>\n",
       "      <td>201091NM01881</td>\n",
       "      <td>Slight</td>\n",
       "      <td>21-02-2022</td>\n",
       "      <td>57.232273</td>\n",
       "      <td>Darkness - no lighting</td>\n",
       "      <td>Highland</td>\n",
       "      <td>-3.809281</td>\n",
       "      <td>1</td>\n",
       "      <td>1</td>\n",
       "      <td>Frost or ice</td>\n",
       "      <td>Single carriageway</td>\n",
       "      <td>Rural</td>\n",
       "      <td>Fine no high winds</td>\n",
       "      <td>Car</td>\n",
       "    </tr>\n",
       "    <tr>\n",
       "      <th>660676</th>\n",
       "      <td>201091NM01935</td>\n",
       "      <td>Slight</td>\n",
       "      <td>23-02-2022</td>\n",
       "      <td>57.585044</td>\n",
       "      <td>Daylight</td>\n",
       "      <td>Highland</td>\n",
       "      <td>-3.862727</td>\n",
       "      <td>1</td>\n",
       "      <td>3</td>\n",
       "      <td>Frost or ice</td>\n",
       "      <td>Single carriageway</td>\n",
       "      <td>Rural</td>\n",
       "      <td>Fine no high winds</td>\n",
       "      <td>Car</td>\n",
       "    </tr>\n",
       "    <tr>\n",
       "      <th>660677</th>\n",
       "      <td>201091NM01964</td>\n",
       "      <td>Serious</td>\n",
       "      <td>23-02-2022</td>\n",
       "      <td>57.214898</td>\n",
       "      <td>Darkness - no lighting</td>\n",
       "      <td>Highland</td>\n",
       "      <td>-3.823997</td>\n",
       "      <td>1</td>\n",
       "      <td>2</td>\n",
       "      <td>Wet or damp</td>\n",
       "      <td>Single carriageway</td>\n",
       "      <td>Rural</td>\n",
       "      <td>Fine no high winds</td>\n",
       "      <td>Motorcycle over 500cc</td>\n",
       "    </tr>\n",
       "    <tr>\n",
       "      <th>660678</th>\n",
       "      <td>201091NM02142</td>\n",
       "      <td>Serious</td>\n",
       "      <td>28-02-2022</td>\n",
       "      <td>57.575210</td>\n",
       "      <td>Daylight</td>\n",
       "      <td>Highland</td>\n",
       "      <td>-3.895673</td>\n",
       "      <td>1</td>\n",
       "      <td>1</td>\n",
       "      <td>Wet or damp</td>\n",
       "      <td>Dual carriageway</td>\n",
       "      <td>Rural</td>\n",
       "      <td>Snowing no high winds</td>\n",
       "      <td>Car</td>\n",
       "    </tr>\n",
       "  </tbody>\n",
       "</table>\n",
       "<p>660679 rows × 14 columns</p>\n",
       "</div>"
      ],
      "text/plain": [
       "                Index Accident_Severity Accident Date   Latitude  \\\n",
       "0       200701BS64157           Serious      5/6/2019  51.506187   \n",
       "1       200701BS65737           Serious      2/7/2019  51.495029   \n",
       "2       200701BS66127           Serious    26-08-2019  51.517715   \n",
       "3       200701BS66128           Serious    16-08-2019  51.495478   \n",
       "4       200701BS66837            Slight      3/9/2019  51.488576   \n",
       "...               ...               ...           ...        ...   \n",
       "660674  201091NM01760            Slight    18-02-2022  57.374005   \n",
       "660675  201091NM01881            Slight    21-02-2022  57.232273   \n",
       "660676  201091NM01935            Slight    23-02-2022  57.585044   \n",
       "660677  201091NM01964           Serious    23-02-2022  57.214898   \n",
       "660678  201091NM02142           Serious    28-02-2022  57.575210   \n",
       "\n",
       "                   Light_Conditions           District Area  Longitude  \\\n",
       "0             Darkness - lights lit  Kensington and Chelsea  -0.209082   \n",
       "1                          Daylight  Kensington and Chelsea  -0.173647   \n",
       "2       Darkness - lighting unknown  Kensington and Chelsea  -0.210215   \n",
       "3                          Daylight  Kensington and Chelsea  -0.202731   \n",
       "4             Darkness - lights lit  Kensington and Chelsea  -0.192487   \n",
       "...                             ...                     ...        ...   \n",
       "660674                     Daylight                Highland  -3.467828   \n",
       "660675       Darkness - no lighting                Highland  -3.809281   \n",
       "660676                     Daylight                Highland  -3.862727   \n",
       "660677       Darkness - no lighting                Highland  -3.823997   \n",
       "660678                     Daylight                Highland  -3.895673   \n",
       "\n",
       "        Number_of_Casualties  Number_of_Vehicles Road_Surface_Conditions  \\\n",
       "0                          1                   2                     Dry   \n",
       "1                          1                   2             Wet or damp   \n",
       "2                          1                   3                     Dry   \n",
       "3                          1                   4                     Dry   \n",
       "4                          1                   2                     Dry   \n",
       "...                      ...                 ...                     ...   \n",
       "660674                     2                   1                     Dry   \n",
       "660675                     1                   1            Frost or ice   \n",
       "660676                     1                   3            Frost or ice   \n",
       "660677                     1                   2             Wet or damp   \n",
       "660678                     1                   1             Wet or damp   \n",
       "\n",
       "                 Road_Type Urban_or_Rural_Area     Weather_Conditions  \\\n",
       "0       Single carriageway               Urban     Fine no high winds   \n",
       "1       Single carriageway               Urban  Raining no high winds   \n",
       "2                      NaN               Urban                    NaN   \n",
       "3       Single carriageway               Urban     Fine no high winds   \n",
       "4                      NaN               Urban                    NaN   \n",
       "...                    ...                 ...                    ...   \n",
       "660674  Single carriageway               Rural     Fine no high winds   \n",
       "660675  Single carriageway               Rural     Fine no high winds   \n",
       "660676  Single carriageway               Rural     Fine no high winds   \n",
       "660677  Single carriageway               Rural     Fine no high winds   \n",
       "660678    Dual carriageway               Rural  Snowing no high winds   \n",
       "\n",
       "                                Vehicle_Type  \n",
       "0                                        Car  \n",
       "1                                        Car  \n",
       "2                      Taxi/Private hire car  \n",
       "3       Bus or coach (17 or more pass seats)  \n",
       "4                              Other vehicle  \n",
       "...                                      ...  \n",
       "660674                                   Car  \n",
       "660675                                   Car  \n",
       "660676                                   Car  \n",
       "660677                 Motorcycle over 500cc  \n",
       "660678                                   Car  \n",
       "\n",
       "[660679 rows x 14 columns]"
      ]
     },
     "execution_count": 3,
     "metadata": {},
     "output_type": "execute_result"
    }
   ],
   "source": [
    "accident"
   ]
  },
  {
   "cell_type": "markdown",
   "id": "6d5ffc4d-55cb-41ce-b221-cc30205224f4",
   "metadata": {},
   "source": [
    "<h3>Extracting date information using pandas date time</h3>"
   ]
  },
  {
   "cell_type": "code",
   "execution_count": 4,
   "id": "ac6e5216-88d3-4a67-affd-c188a8204da8",
   "metadata": {},
   "outputs": [],
   "source": [
    "accident['Accident Date'] = pd.to_datetime(accident['Accident Date'], dayfirst = True, errors = 'coerce')"
   ]
  },
  {
   "cell_type": "code",
   "execution_count": 5,
   "id": "2c5ace22-a0c7-4397-868f-8c0226df74cc",
   "metadata": {},
   "outputs": [],
   "source": [
    "accident['Year'] = accident['Accident Date'].dt.year\n",
    "accident['Month'] = accident['Accident Date'].dt.month\n",
    "accident['Day'] = accident['Accident Date'].dt.day\n",
    "accident['DayofWeek'] = accident['Accident Date'].dt.dayofweek #Monday=0 , Sunday=6 "
   ]
  },
  {
   "cell_type": "code",
   "execution_count": 65,
   "id": "7177c407-c410-49ed-bc03-f4910017f096",
   "metadata": {},
   "outputs": [
    {
     "name": "stdout",
     "output_type": "stream",
     "text": [
      "<class 'pandas.core.frame.DataFrame'>\n",
      "RangeIndex: 660679 entries, 0 to 660678\n",
      "Data columns (total 18 columns):\n",
      " #   Column                   Non-Null Count   Dtype   \n",
      "---  ------                   --------------   -----   \n",
      " 0   Index                    660679 non-null  object  \n",
      " 1   Accident_Severity        660679 non-null  category\n",
      " 2   Accident Date            265007 non-null  category\n",
      " 3   Latitude                 660679 non-null  category\n",
      " 4   Light_Conditions         660679 non-null  category\n",
      " 5   District Area            660679 non-null  object  \n",
      " 6   Longitude                660679 non-null  category\n",
      " 7   Number_of_Casualties     660679 non-null  int64   \n",
      " 8   Number_of_Vehicles       660679 non-null  int64   \n",
      " 9   Road_Surface_Conditions  660679 non-null  category\n",
      " 10  Road_Type                660679 non-null  category\n",
      " 11  Urban_or_Rural_Area      660679 non-null  category\n",
      " 12  Weather_Conditions       660679 non-null  category\n",
      " 13  Vehicle_Type             660679 non-null  category\n",
      " 14  Year                     265007 non-null  float64 \n",
      " 15  Month                    265007 non-null  float64 \n",
      " 16  Day                      265007 non-null  float64 \n",
      " 17  DayofWeek                265007 non-null  float64 \n",
      "dtypes: category(10), float64(4), int64(2), object(2)\n",
      "memory usage: 91.3+ MB\n"
     ]
    }
   ],
   "source": [
    "accident.info()"
   ]
  },
  {
   "cell_type": "code",
   "execution_count": 64,
   "id": "296b7f60-2001-4578-b2bf-019d39886473",
   "metadata": {},
   "outputs": [],
   "source": [
    "accident['Accident_Severity'] = accident['Accident_Severity'].astype('category')\n",
    "accident['Accident Date'] = accident['Accident Date'].astype('category')\n",
    "accident['Latitude'] = accident['Latitude'].astype('category')\n",
    "accident['Light_Conditions'] = accident['Light_Conditions'].astype('category')\n",
    "accident['Longitude'] = accident['Longitude'].astype('category')\n",
    "accident['Road_Surface_Conditions'] = accident['Road_Surface_Conditions'].astype('category')\n",
    "accident['Road_Type'] = accident['Road_Type'].astype('category')\n",
    "accident['Urban_or_Rural_Area'] = accident['Urban_or_Rural_Area'].astype('category')\n",
    "accident['Weather_Conditions'] = accident['Weather_Conditions'].astype('category')\n",
    "accident['Vehicle_Type'] = accident['Vehicle_Type'].astype('category')"
   ]
  },
  {
   "cell_type": "code",
   "execution_count": 7,
   "id": "4b05954c-445d-4132-bd8b-d300c41e0296",
   "metadata": {},
   "outputs": [
    {
     "data": {
      "text/html": [
       "<div>\n",
       "<style scoped>\n",
       "    .dataframe tbody tr th:only-of-type {\n",
       "        vertical-align: middle;\n",
       "    }\n",
       "\n",
       "    .dataframe tbody tr th {\n",
       "        vertical-align: top;\n",
       "    }\n",
       "\n",
       "    .dataframe thead th {\n",
       "        text-align: right;\n",
       "    }\n",
       "</style>\n",
       "<table border=\"1\" class=\"dataframe\">\n",
       "  <thead>\n",
       "    <tr style=\"text-align: right;\">\n",
       "      <th></th>\n",
       "      <th>Accident Date</th>\n",
       "      <th>Latitude</th>\n",
       "      <th>Longitude</th>\n",
       "      <th>Number_of_Casualties</th>\n",
       "      <th>Number_of_Vehicles</th>\n",
       "      <th>Year</th>\n",
       "      <th>Month</th>\n",
       "      <th>Day</th>\n",
       "      <th>DayofWeek</th>\n",
       "    </tr>\n",
       "  </thead>\n",
       "  <tbody>\n",
       "    <tr>\n",
       "      <th>count</th>\n",
       "      <td>265007</td>\n",
       "      <td>660654.000000</td>\n",
       "      <td>660653.000000</td>\n",
       "      <td>660679.000000</td>\n",
       "      <td>660679.000000</td>\n",
       "      <td>265007.000000</td>\n",
       "      <td>265007.000000</td>\n",
       "      <td>265007.000000</td>\n",
       "      <td>265007.000000</td>\n",
       "    </tr>\n",
       "    <tr>\n",
       "      <th>mean</th>\n",
       "      <td>2020-11-23 16:22:04.873683456</td>\n",
       "      <td>52.553866</td>\n",
       "      <td>-1.431210</td>\n",
       "      <td>1.357040</td>\n",
       "      <td>1.831255</td>\n",
       "      <td>2020.407216</td>\n",
       "      <td>6.708374</td>\n",
       "      <td>6.522028</td>\n",
       "      <td>3.106367</td>\n",
       "    </tr>\n",
       "    <tr>\n",
       "      <th>min</th>\n",
       "      <td>2019-01-01 00:00:00</td>\n",
       "      <td>49.914430</td>\n",
       "      <td>-7.516225</td>\n",
       "      <td>1.000000</td>\n",
       "      <td>1.000000</td>\n",
       "      <td>2019.000000</td>\n",
       "      <td>1.000000</td>\n",
       "      <td>1.000000</td>\n",
       "      <td>0.000000</td>\n",
       "    </tr>\n",
       "    <tr>\n",
       "      <th>25%</th>\n",
       "      <td>2019-12-03 00:00:00</td>\n",
       "      <td>51.490690</td>\n",
       "      <td>-2.332291</td>\n",
       "      <td>1.000000</td>\n",
       "      <td>1.000000</td>\n",
       "      <td>2019.000000</td>\n",
       "      <td>4.000000</td>\n",
       "      <td>4.000000</td>\n",
       "      <td>1.000000</td>\n",
       "    </tr>\n",
       "    <tr>\n",
       "      <th>50%</th>\n",
       "      <td>2020-11-07 00:00:00</td>\n",
       "      <td>52.315641</td>\n",
       "      <td>-1.411667</td>\n",
       "      <td>1.000000</td>\n",
       "      <td>2.000000</td>\n",
       "      <td>2020.000000</td>\n",
       "      <td>7.000000</td>\n",
       "      <td>7.000000</td>\n",
       "      <td>3.000000</td>\n",
       "    </tr>\n",
       "    <tr>\n",
       "      <th>75%</th>\n",
       "      <td>2021-11-07 00:00:00</td>\n",
       "      <td>53.453452</td>\n",
       "      <td>-0.232869</td>\n",
       "      <td>1.000000</td>\n",
       "      <td>2.000000</td>\n",
       "      <td>2021.000000</td>\n",
       "      <td>10.000000</td>\n",
       "      <td>10.000000</td>\n",
       "      <td>5.000000</td>\n",
       "    </tr>\n",
       "    <tr>\n",
       "      <th>max</th>\n",
       "      <td>2022-12-12 00:00:00</td>\n",
       "      <td>60.757544</td>\n",
       "      <td>1.762010</td>\n",
       "      <td>68.000000</td>\n",
       "      <td>32.000000</td>\n",
       "      <td>2022.000000</td>\n",
       "      <td>12.000000</td>\n",
       "      <td>12.000000</td>\n",
       "      <td>6.000000</td>\n",
       "    </tr>\n",
       "    <tr>\n",
       "      <th>std</th>\n",
       "      <td>NaN</td>\n",
       "      <td>1.406922</td>\n",
       "      <td>1.383330</td>\n",
       "      <td>0.824847</td>\n",
       "      <td>0.715269</td>\n",
       "      <td>1.101126</td>\n",
       "      <td>3.445617</td>\n",
       "      <td>3.467063</td>\n",
       "      <td>1.920114</td>\n",
       "    </tr>\n",
       "  </tbody>\n",
       "</table>\n",
       "</div>"
      ],
      "text/plain": [
       "                       Accident Date       Latitude      Longitude  \\\n",
       "count                         265007  660654.000000  660653.000000   \n",
       "mean   2020-11-23 16:22:04.873683456      52.553866      -1.431210   \n",
       "min              2019-01-01 00:00:00      49.914430      -7.516225   \n",
       "25%              2019-12-03 00:00:00      51.490690      -2.332291   \n",
       "50%              2020-11-07 00:00:00      52.315641      -1.411667   \n",
       "75%              2021-11-07 00:00:00      53.453452      -0.232869   \n",
       "max              2022-12-12 00:00:00      60.757544       1.762010   \n",
       "std                              NaN       1.406922       1.383330   \n",
       "\n",
       "       Number_of_Casualties  Number_of_Vehicles           Year          Month  \\\n",
       "count         660679.000000       660679.000000  265007.000000  265007.000000   \n",
       "mean               1.357040            1.831255    2020.407216       6.708374   \n",
       "min                1.000000            1.000000    2019.000000       1.000000   \n",
       "25%                1.000000            1.000000    2019.000000       4.000000   \n",
       "50%                1.000000            2.000000    2020.000000       7.000000   \n",
       "75%                1.000000            2.000000    2021.000000      10.000000   \n",
       "max               68.000000           32.000000    2022.000000      12.000000   \n",
       "std                0.824847            0.715269       1.101126       3.445617   \n",
       "\n",
       "                 Day      DayofWeek  \n",
       "count  265007.000000  265007.000000  \n",
       "mean        6.522028       3.106367  \n",
       "min         1.000000       0.000000  \n",
       "25%         4.000000       1.000000  \n",
       "50%         7.000000       3.000000  \n",
       "75%        10.000000       5.000000  \n",
       "max        12.000000       6.000000  \n",
       "std         3.467063       1.920114  "
      ]
     },
     "execution_count": 7,
     "metadata": {},
     "output_type": "execute_result"
    }
   ],
   "source": [
    "accident.describe()"
   ]
  },
  {
   "cell_type": "code",
   "execution_count": 8,
   "id": "db582b42-8cf3-4a06-be54-b892b8ea4fe2",
   "metadata": {},
   "outputs": [
    {
     "data": {
      "text/html": [
       "<div>\n",
       "<style scoped>\n",
       "    .dataframe tbody tr th:only-of-type {\n",
       "        vertical-align: middle;\n",
       "    }\n",
       "\n",
       "    .dataframe tbody tr th {\n",
       "        vertical-align: top;\n",
       "    }\n",
       "\n",
       "    .dataframe thead th {\n",
       "        text-align: right;\n",
       "    }\n",
       "</style>\n",
       "<table border=\"1\" class=\"dataframe\">\n",
       "  <thead>\n",
       "    <tr style=\"text-align: right;\">\n",
       "      <th></th>\n",
       "      <th>count</th>\n",
       "      <th>mean</th>\n",
       "      <th>min</th>\n",
       "      <th>25%</th>\n",
       "      <th>50%</th>\n",
       "      <th>75%</th>\n",
       "      <th>max</th>\n",
       "      <th>std</th>\n",
       "    </tr>\n",
       "  </thead>\n",
       "  <tbody>\n",
       "    <tr>\n",
       "      <th>Accident Date</th>\n",
       "      <td>265007</td>\n",
       "      <td>2020-11-23 16:22:04.873683456</td>\n",
       "      <td>2019-01-01 00:00:00</td>\n",
       "      <td>2019-12-03 00:00:00</td>\n",
       "      <td>2020-11-07 00:00:00</td>\n",
       "      <td>2021-11-07 00:00:00</td>\n",
       "      <td>2022-12-12 00:00:00</td>\n",
       "      <td>NaN</td>\n",
       "    </tr>\n",
       "    <tr>\n",
       "      <th>Latitude</th>\n",
       "      <td>660654.0</td>\n",
       "      <td>52.553866</td>\n",
       "      <td>49.91443</td>\n",
       "      <td>51.49069</td>\n",
       "      <td>52.315641</td>\n",
       "      <td>53.453452</td>\n",
       "      <td>60.757544</td>\n",
       "      <td>1.406922</td>\n",
       "    </tr>\n",
       "    <tr>\n",
       "      <th>Longitude</th>\n",
       "      <td>660653.0</td>\n",
       "      <td>-1.43121</td>\n",
       "      <td>-7.516225</td>\n",
       "      <td>-2.332291</td>\n",
       "      <td>-1.411667</td>\n",
       "      <td>-0.232869</td>\n",
       "      <td>1.76201</td>\n",
       "      <td>1.38333</td>\n",
       "    </tr>\n",
       "    <tr>\n",
       "      <th>Number_of_Casualties</th>\n",
       "      <td>660679.0</td>\n",
       "      <td>1.35704</td>\n",
       "      <td>1.0</td>\n",
       "      <td>1.0</td>\n",
       "      <td>1.0</td>\n",
       "      <td>1.0</td>\n",
       "      <td>68.0</td>\n",
       "      <td>0.824847</td>\n",
       "    </tr>\n",
       "    <tr>\n",
       "      <th>Number_of_Vehicles</th>\n",
       "      <td>660679.0</td>\n",
       "      <td>1.831255</td>\n",
       "      <td>1.0</td>\n",
       "      <td>1.0</td>\n",
       "      <td>2.0</td>\n",
       "      <td>2.0</td>\n",
       "      <td>32.0</td>\n",
       "      <td>0.715269</td>\n",
       "    </tr>\n",
       "    <tr>\n",
       "      <th>Year</th>\n",
       "      <td>265007.0</td>\n",
       "      <td>2020.407216</td>\n",
       "      <td>2019.0</td>\n",
       "      <td>2019.0</td>\n",
       "      <td>2020.0</td>\n",
       "      <td>2021.0</td>\n",
       "      <td>2022.0</td>\n",
       "      <td>1.101126</td>\n",
       "    </tr>\n",
       "    <tr>\n",
       "      <th>Month</th>\n",
       "      <td>265007.0</td>\n",
       "      <td>6.708374</td>\n",
       "      <td>1.0</td>\n",
       "      <td>4.0</td>\n",
       "      <td>7.0</td>\n",
       "      <td>10.0</td>\n",
       "      <td>12.0</td>\n",
       "      <td>3.445617</td>\n",
       "    </tr>\n",
       "    <tr>\n",
       "      <th>Day</th>\n",
       "      <td>265007.0</td>\n",
       "      <td>6.522028</td>\n",
       "      <td>1.0</td>\n",
       "      <td>4.0</td>\n",
       "      <td>7.0</td>\n",
       "      <td>10.0</td>\n",
       "      <td>12.0</td>\n",
       "      <td>3.467063</td>\n",
       "    </tr>\n",
       "    <tr>\n",
       "      <th>DayofWeek</th>\n",
       "      <td>265007.0</td>\n",
       "      <td>3.106367</td>\n",
       "      <td>0.0</td>\n",
       "      <td>1.0</td>\n",
       "      <td>3.0</td>\n",
       "      <td>5.0</td>\n",
       "      <td>6.0</td>\n",
       "      <td>1.920114</td>\n",
       "    </tr>\n",
       "  </tbody>\n",
       "</table>\n",
       "</div>"
      ],
      "text/plain": [
       "                         count                           mean  \\\n",
       "Accident Date           265007  2020-11-23 16:22:04.873683456   \n",
       "Latitude              660654.0                      52.553866   \n",
       "Longitude             660653.0                       -1.43121   \n",
       "Number_of_Casualties  660679.0                        1.35704   \n",
       "Number_of_Vehicles    660679.0                       1.831255   \n",
       "Year                  265007.0                    2020.407216   \n",
       "Month                 265007.0                       6.708374   \n",
       "Day                   265007.0                       6.522028   \n",
       "DayofWeek             265007.0                       3.106367   \n",
       "\n",
       "                                      min                  25%  \\\n",
       "Accident Date         2019-01-01 00:00:00  2019-12-03 00:00:00   \n",
       "Latitude                         49.91443             51.49069   \n",
       "Longitude                       -7.516225            -2.332291   \n",
       "Number_of_Casualties                  1.0                  1.0   \n",
       "Number_of_Vehicles                    1.0                  1.0   \n",
       "Year                               2019.0               2019.0   \n",
       "Month                                 1.0                  4.0   \n",
       "Day                                   1.0                  4.0   \n",
       "DayofWeek                             0.0                  1.0   \n",
       "\n",
       "                                      50%                  75%  \\\n",
       "Accident Date         2020-11-07 00:00:00  2021-11-07 00:00:00   \n",
       "Latitude                        52.315641            53.453452   \n",
       "Longitude                       -1.411667            -0.232869   \n",
       "Number_of_Casualties                  1.0                  1.0   \n",
       "Number_of_Vehicles                    2.0                  2.0   \n",
       "Year                               2020.0               2021.0   \n",
       "Month                                 7.0                 10.0   \n",
       "Day                                   7.0                 10.0   \n",
       "DayofWeek                             3.0                  5.0   \n",
       "\n",
       "                                      max       std  \n",
       "Accident Date         2022-12-12 00:00:00       NaN  \n",
       "Latitude                        60.757544  1.406922  \n",
       "Longitude                         1.76201   1.38333  \n",
       "Number_of_Casualties                 68.0  0.824847  \n",
       "Number_of_Vehicles                   32.0  0.715269  \n",
       "Year                               2022.0  1.101126  \n",
       "Month                                12.0  3.445617  \n",
       "Day                                  12.0  3.467063  \n",
       "DayofWeek                             6.0  1.920114  "
      ]
     },
     "execution_count": 8,
     "metadata": {},
     "output_type": "execute_result"
    }
   ],
   "source": [
    "accident.describe().T"
   ]
  },
  {
   "cell_type": "code",
   "execution_count": 63,
   "id": "4df90196-92d7-4191-8ee1-56e27d3bc588",
   "metadata": {},
   "outputs": [
    {
     "data": {
      "text/plain": [
       "Index                           0\n",
       "Accident_Severity               0\n",
       "Accident Date              395672\n",
       "Latitude                        0\n",
       "Light_Conditions                0\n",
       "District Area                   0\n",
       "Longitude                       0\n",
       "Number_of_Casualties            0\n",
       "Number_of_Vehicles              0\n",
       "Road_Surface_Conditions         0\n",
       "Road_Type                       0\n",
       "Urban_or_Rural_Area             0\n",
       "Weather_Conditions              0\n",
       "Vehicle_Type                    0\n",
       "Year                       395672\n",
       "Month                      395672\n",
       "Day                        395672\n",
       "DayofWeek                  395672\n",
       "dtype: int64"
      ]
     },
     "execution_count": 63,
     "metadata": {},
     "output_type": "execute_result"
    }
   ],
   "source": [
    "accident.isnull().sum()"
   ]
  },
  {
   "cell_type": "code",
   "execution_count": 62,
   "id": "d61d6c90-68d5-40b3-84ea-d5b8eb49f9f6",
   "metadata": {},
   "outputs": [],
   "source": [
    "accident['Latitude'] = accident['Latitude'].fillna(accident['Latitude'].mode()[0])\n",
    "accident['Longitude'] = accident['Longitude'].fillna(accident['Longitude'].mode()[0])\n",
    "accident['Road_Surface_Conditions'] = accident['Road_Surface_Conditions'].fillna(accident['Road_Surface_Conditions'].mode()[0])\n",
    "accident['Urban_or_Rural_Area'] = accident['Urban_or_Rural_Area'].fillna(accident['Urban_or_Rural_Area'].mode()[0])\n",
    "accident['Road_Type'] = accident['Road_Type'].fillna(accident['Road_Type'].mode()[0])\n",
    "accident['Weather_Conditions'] = accident['Weather_Conditions'].fillna(accident['Weather_Conditions'].mode()[0])\n"
   ]
  },
  {
   "cell_type": "markdown",
   "id": "4181c001-76b9-46b8-85db-9601231f3f9b",
   "metadata": {},
   "source": [
    "<h1>Questions and Insights</h1>"
   ]
  },
  {
   "cell_type": "markdown",
   "id": "c7dbc13e-e541-4107-bc87-28d70e60bef9",
   "metadata": {},
   "source": [
    "<h3>1. Which weather condition has the highest average number of vehicles involved in accidents?</h3>"
   ]
  },
  {
   "cell_type": "code",
   "execution_count": 23,
   "id": "2f8792cc-acc5-41dc-96b7-366e0e164707",
   "metadata": {},
   "outputs": [
    {
     "data": {
      "text/plain": [
       "Weather_Conditions\n",
       "Fine + high winds        1.779401\n",
       "Fine no high winds       1.835907\n",
       "Fog or mist              1.807823\n",
       "Other                    1.777668\n",
       "Raining + high winds     1.777951\n",
       "Raining no high winds    1.831610\n",
       "Snowing + high winds     1.737853\n",
       "Snowing no high winds    1.754889\n",
       "Name: Number_of_Vehicles, dtype: float64"
      ]
     },
     "execution_count": 23,
     "metadata": {},
     "output_type": "execute_result"
    }
   ],
   "source": [
    "accident.groupby(\"Weather_Conditions\")[\"Number_of_Vehicles\"].mean()"
   ]
  },
  {
   "cell_type": "markdown",
   "id": "61444c25-e86e-49bf-b9fb-702ef0310234",
   "metadata": {},
   "source": [
    "<h3>Insights:According on the given results it shows that the weather condition with the highest average number of vehicles that is involved in accidents is Fine no high winds with an average of 1.835907.\n",
    "</h3>"
   ]
  },
  {
   "cell_type": "markdown",
   "id": "7a62e7e5-200e-4bf7-b699-6bb722b6ea1c",
   "metadata": {},
   "source": [
    "<h3>2. What kind of light conditions has the most serious level of accident severity recorded?</h3>"
   ]
  },
  {
   "cell_type": "code",
   "execution_count": 14,
   "id": "fb6fda62-ed80-46bc-b037-e4a9c455822d",
   "metadata": {},
   "outputs": [
    {
     "data": {
      "text/html": [
       "<div>\n",
       "<style scoped>\n",
       "    .dataframe tbody tr th:only-of-type {\n",
       "        vertical-align: middle;\n",
       "    }\n",
       "\n",
       "    .dataframe tbody tr th {\n",
       "        vertical-align: top;\n",
       "    }\n",
       "\n",
       "    .dataframe thead th {\n",
       "        text-align: right;\n",
       "    }\n",
       "</style>\n",
       "<table border=\"1\" class=\"dataframe\">\n",
       "  <thead>\n",
       "    <tr style=\"text-align: right;\">\n",
       "      <th>Accident_Severity</th>\n",
       "      <th>Fatal</th>\n",
       "      <th>Serious</th>\n",
       "      <th>Slight</th>\n",
       "    </tr>\n",
       "    <tr>\n",
       "      <th>Light_Conditions</th>\n",
       "      <th></th>\n",
       "      <th></th>\n",
       "      <th></th>\n",
       "    </tr>\n",
       "  </thead>\n",
       "  <tbody>\n",
       "    <tr>\n",
       "      <th>Darkness - lighting unknown</th>\n",
       "      <td>68</td>\n",
       "      <td>794</td>\n",
       "      <td>5622</td>\n",
       "    </tr>\n",
       "    <tr>\n",
       "      <th>Darkness - lights lit</th>\n",
       "      <td>1860</td>\n",
       "      <td>19130</td>\n",
       "      <td>108345</td>\n",
       "    </tr>\n",
       "    <tr>\n",
       "      <th>Darkness - lights unlit</th>\n",
       "      <td>45</td>\n",
       "      <td>360</td>\n",
       "      <td>2138</td>\n",
       "    </tr>\n",
       "    <tr>\n",
       "      <th>Darkness - no lighting</th>\n",
       "      <td>1612</td>\n",
       "      <td>7174</td>\n",
       "      <td>28651</td>\n",
       "    </tr>\n",
       "    <tr>\n",
       "      <th>Daylight</th>\n",
       "      <td>5076</td>\n",
       "      <td>60759</td>\n",
       "      <td>419045</td>\n",
       "    </tr>\n",
       "  </tbody>\n",
       "</table>\n",
       "</div>"
      ],
      "text/plain": [
       "Accident_Severity            Fatal  Serious  Slight\n",
       "Light_Conditions                                   \n",
       "Darkness - lighting unknown     68      794    5622\n",
       "Darkness - lights lit         1860    19130  108345\n",
       "Darkness - lights unlit         45      360    2138\n",
       "Darkness - no lighting        1612     7174   28651\n",
       "Daylight                      5076    60759  419045"
      ]
     },
     "execution_count": 14,
     "metadata": {},
     "output_type": "execute_result"
    }
   ],
   "source": [
    "accident.groupby([\"Light_Conditions\", \"Accident_Severity\"]).size().unstack()"
   ]
  },
  {
   "cell_type": "markdown",
   "id": "2e00e8ec-104a-4bb1-9d0c-5f59013d46a6",
   "metadata": {},
   "source": [
    "<h3>Insights: According to the results it shows that Daylight had the most serious level of accident severity with a record of 60,759 which is about 10.87% in percentage .\n",
    "</h3>"
   ]
  },
  {
   "cell_type": "markdown",
   "id": "54610191-fc3c-4938-90a3-02fc5d5d8244",
   "metadata": {},
   "source": [
    "<h3>3. Which type of vehicle has the highest number of casualties?</h3>"
   ]
  },
  {
   "cell_type": "code",
   "execution_count": 19,
   "id": "fbbf6089-6829-4902-964d-21828995ff2f",
   "metadata": {},
   "outputs": [
    {
     "data": {
      "text/plain": [
       "Vehicle_Type\n",
       "Agricultural vehicle                       1947\n",
       "Bus or coach (17 or more pass seats)      25878\n",
       "Car                                      497992\n",
       "Data missing or out of range                  6\n",
       "Goods 7.5 tonnes mgw and over             17307\n",
       "Goods over 3.5t. and under 7.5t            6096\n",
       "Minibus (8 - 16 passenger seats)           1976\n",
       "Motorcycle 125cc and under                15269\n",
       "Motorcycle 50cc and under                  7603\n",
       "Motorcycle over 125cc and up to 500cc      7656\n",
       "Motorcycle over 500cc                     25657\n",
       "Other vehicle                              5637\n",
       "Pedal cycle                                 197\n",
       "Ridden horse                                  4\n",
       "Taxi/Private hire car                     13294\n",
       "Van / Goods 3.5 tonnes mgw or under       34160\n",
       "Name: Number_of_Casualties, dtype: int64"
      ]
     },
     "execution_count": 19,
     "metadata": {},
     "output_type": "execute_result"
    }
   ],
   "source": [
    "accident.groupby(\"Vehicle_Type\")[\"Number_of_Casualties\"].size()"
   ]
  },
  {
   "cell_type": "markdown",
   "id": "33ef6fee-aee1-48d4-804b-f1a1675d0150",
   "metadata": {},
   "source": [
    "<h3>Insights: According to the given results we can see that the type of vehicle with the highest number of casualties is Car with a record of 497,992.</h3>"
   ]
  },
  {
   "cell_type": "markdown",
   "id": "59f18528-36f6-4722-8160-d460f00fafc8",
   "metadata": {},
   "source": [
    "<h3>4. Is there a correlation between the number of vehicles and the number of casualties?</h3>"
   ]
  },
  {
   "cell_type": "code",
   "execution_count": 20,
   "id": "1704b054-ac8a-443d-8646-fd9a9d1474e6",
   "metadata": {},
   "outputs": [
    {
     "data": {
      "text/plain": [
       "np.float64(0.22888886126927557)"
      ]
     },
     "execution_count": 20,
     "metadata": {},
     "output_type": "execute_result"
    }
   ],
   "source": [
    "accident[\"Number_of_Vehicles\"].corr(accident[\"Number_of_Casualties\"])"
   ]
  },
  {
   "cell_type": "markdown",
   "id": "2cd9ace8-63c7-4f50-87f1-6b11902be46f",
   "metadata": {},
   "source": [
    "<h3>Insights: Based on the result it clearly shows that there are no correlation between the no. of vehicles and the no. of casualties.\n",
    "</h3>"
   ]
  },
  {
   "cell_type": "markdown",
   "id": "f8023638-123c-43d4-89dc-a0653954c35e",
   "metadata": {},
   "source": [
    "<h3>5. Is there a relation between the Latitude and the number of casualties that is recorded in the dataset?</h3>"
   ]
  },
  {
   "cell_type": "code",
   "execution_count": 22,
   "id": "bdc3187a-c3b0-4f3e-b0cf-ee3f27f253ec",
   "metadata": {},
   "outputs": [
    {
     "data": {
      "text/plain": [
       "np.float64(0.032200686625906395)"
      ]
     },
     "execution_count": 22,
     "metadata": {},
     "output_type": "execute_result"
    }
   ],
   "source": [
    "accident[\"Latitude\"].corr(accident[\"Number_of_Casualties\"])"
   ]
  },
  {
   "cell_type": "markdown",
   "id": "e870a69e-b8f6-4ad8-9a51-2a358abaefe3",
   "metadata": {},
   "source": [
    "<h3>Insights: According to the result of the analysis there is no correlation between the Latitude and the number of casualties in the dataset.</h3>"
   ]
  },
  {
   "cell_type": "markdown",
   "id": "fa2fa6b5-3f83-4d7e-9e32-5c1649c3f842",
   "metadata": {},
   "source": [
    "<h3>6.  What is the average number of vehicles involved in accidents across different accident severity levels?</h3>"
   ]
  },
  {
   "cell_type": "code",
   "execution_count": 24,
   "id": "b13b33e1-e4e0-4eca-8cd7-15aae6117c7a",
   "metadata": {},
   "outputs": [
    {
     "data": {
      "text/plain": [
       "Accident_Severity\n",
       "Fatal      1.786976\n",
       "Serious    1.678327\n",
       "Slight     1.855864\n",
       "Name: Number_of_Vehicles, dtype: float64"
      ]
     },
     "execution_count": 24,
     "metadata": {},
     "output_type": "execute_result"
    }
   ],
   "source": [
    "accident.groupby(\"Accident_Severity\")[\"Number_of_Vehicles\"].mean()"
   ]
  },
  {
   "cell_type": "markdown",
   "id": "d57ca41a-965f-4d36-9739-424dd1948453",
   "metadata": {},
   "source": [
    "<h3>Insights: Based on the given results, we can clearly see that Slight level of accident severity had the highest average of vehicles involved and second to it is Serious level severity, while Fatal level of severity had the lowest average.\n",
    "</h3>"
   ]
  },
  {
   "cell_type": "markdown",
   "id": "4a853316-da7c-49db-b766-b1a06daf3364",
   "metadata": {},
   "source": [
    "<h3>7.What road type is most involved accident?</h3>"
   ]
  },
  {
   "cell_type": "code",
   "execution_count": 25,
   "id": "7ae66ae5-8da0-4d6d-89da-19a333c4f453",
   "metadata": {},
   "outputs": [
    {
     "data": {
      "text/plain": [
       "Road_Type\n",
       "Single carriageway    496663\n",
       "Dual carriageway       99424\n",
       "Roundabout             43992\n",
       "One way street         13559\n",
       "Slip road               7041\n",
       "Name: count, dtype: int64"
      ]
     },
     "execution_count": 25,
     "metadata": {},
     "output_type": "execute_result"
    }
   ],
   "source": [
    "accident['Road_Type'].value_counts()"
   ]
  },
  {
   "cell_type": "markdown",
   "id": "4f429cdb-861f-4170-be7c-1d9c2dc54c0c",
   "metadata": {},
   "source": [
    "<h3>Insights: Based on the given results,single carriageways are the most involved road type in accidents.</h3>"
   ]
  },
  {
   "cell_type": "markdown",
   "id": "4b4d550d-c422-440d-8fd8-13121532ce4a",
   "metadata": {},
   "source": [
    "<h3>8.Which district has the highest average casualties per accident?</h3>"
   ]
  },
  {
   "cell_type": "code",
   "execution_count": 26,
   "id": "dece92f5-a0b5-4575-978c-b186e1b35411",
   "metadata": {},
   "outputs": [
    {
     "data": {
      "text/plain": [
       "District Area\n",
       "Blaeu Gwent          1.693694\n",
       "West Somerset        1.613990\n",
       "Derwentside          1.606186\n",
       "Chester-le-Street    1.603306\n",
       "Durham               1.580431\n",
       "Blaenau Gwent        1.579310\n",
       "Fylde                1.569350\n",
       "Hambleton            1.568523\n",
       "Merthyr Tydfil       1.568182\n",
       "West Lancashire      1.566341\n",
       "Name: Number_of_Casualties, dtype: float64"
      ]
     },
     "execution_count": 26,
     "metadata": {},
     "output_type": "execute_result"
    }
   ],
   "source": [
    "accident.groupby('District Area')['Number_of_Casualties'].mean().sort_values(ascending=False).head(10)"
   ]
  },
  {
   "cell_type": "markdown",
   "id": "02d0498c-554e-4370-9cb4-ca96f197084a",
   "metadata": {},
   "source": [
    "<h3>Insights:According to the records that have the highest average casualties per accident of District area is Blaeu Gwent at 1.69, indicating that casualties in this district usually affect more people than in other districts.</h3>"
   ]
  },
  {
   "cell_type": "markdown",
   "id": "c7e61f07-823e-4336-9424-c84d5d705869",
   "metadata": {},
   "source": [
    "<h3>9. Which vehicle type is most involved in accidents?</h3>"
   ]
  },
  {
   "cell_type": "code",
   "execution_count": 27,
   "id": "2c687625-2944-48ed-ab22-b8f380916a00",
   "metadata": {},
   "outputs": [
    {
     "data": {
      "text/plain": [
       "Vehicle_Type\n",
       "Car                                     6577\n",
       "Van / Goods 3.5 tonnes mgw or under      467\n",
       "Motorcycle over 500cc                    339\n",
       "Bus or coach (17 or more pass seats)     325\n",
       "Goods 7.5 tonnes mgw and over            216\n",
       "Name: count, dtype: int64"
      ]
     },
     "execution_count": 27,
     "metadata": {},
     "output_type": "execute_result"
    }
   ],
   "source": [
    "accident[accident['Accident_Severity'] == 'Fatal']['Vehicle_Type'].value_counts().head(5)"
   ]
  },
  {
   "cell_type": "markdown",
   "id": "06c65590-3cdf-434e-bb1e-e6099ab95840",
   "metadata": {},
   "source": [
    "<h3>Insights:Based on the result,Car was the most frequently involved in accidents.</h3>"
   ]
  },
  {
   "cell_type": "markdown",
   "id": "7ae47fb7-fb30-4167-acef-9835ce17278c",
   "metadata": {},
   "source": [
    "<h3>10. Which road type in rural areas had the highest number of recorded accidents?</h3>"
   ]
  },
  {
   "cell_type": "code",
   "execution_count": 28,
   "id": "4ec95517-859a-4ae2-a8b9-4c96098fe822",
   "metadata": {},
   "outputs": [
    {
     "data": {
      "text/html": [
       "<div>\n",
       "<style scoped>\n",
       "    .dataframe tbody tr th:only-of-type {\n",
       "        vertical-align: middle;\n",
       "    }\n",
       "\n",
       "    .dataframe tbody tr th {\n",
       "        vertical-align: top;\n",
       "    }\n",
       "\n",
       "    .dataframe thead th {\n",
       "        text-align: right;\n",
       "    }\n",
       "</style>\n",
       "<table border=\"1\" class=\"dataframe\">\n",
       "  <thead>\n",
       "    <tr style=\"text-align: right;\">\n",
       "      <th>Urban_or_Rural_Area</th>\n",
       "      <th>Rural</th>\n",
       "      <th>Unallocated</th>\n",
       "      <th>Urban</th>\n",
       "    </tr>\n",
       "    <tr>\n",
       "      <th>Road_Type</th>\n",
       "      <th></th>\n",
       "      <th></th>\n",
       "      <th></th>\n",
       "    </tr>\n",
       "  </thead>\n",
       "  <tbody>\n",
       "    <tr>\n",
       "      <th>Dual carriageway</th>\n",
       "      <td>48715.0</td>\n",
       "      <td>1.0</td>\n",
       "      <td>50708.0</td>\n",
       "    </tr>\n",
       "    <tr>\n",
       "      <th>One way street</th>\n",
       "      <td>1193.0</td>\n",
       "      <td>NaN</td>\n",
       "      <td>12366.0</td>\n",
       "    </tr>\n",
       "    <tr>\n",
       "      <th>Roundabout</th>\n",
       "      <td>15545.0</td>\n",
       "      <td>1.0</td>\n",
       "      <td>28446.0</td>\n",
       "    </tr>\n",
       "    <tr>\n",
       "      <th>Single carriageway</th>\n",
       "      <td>169243.0</td>\n",
       "      <td>9.0</td>\n",
       "      <td>327411.0</td>\n",
       "    </tr>\n",
       "    <tr>\n",
       "      <th>Slip road</th>\n",
       "      <td>4294.0</td>\n",
       "      <td>NaN</td>\n",
       "      <td>2747.0</td>\n",
       "    </tr>\n",
       "  </tbody>\n",
       "</table>\n",
       "</div>"
      ],
      "text/plain": [
       "Urban_or_Rural_Area     Rural  Unallocated     Urban\n",
       "Road_Type                                           \n",
       "Dual carriageway      48715.0          1.0   50708.0\n",
       "One way street         1193.0          NaN   12366.0\n",
       "Roundabout            15545.0          1.0   28446.0\n",
       "Single carriageway   169243.0          9.0  327411.0\n",
       "Slip road              4294.0          NaN    2747.0"
      ]
     },
     "execution_count": 28,
     "metadata": {},
     "output_type": "execute_result"
    }
   ],
   "source": [
    "accident.groupby(['Road_Type','Urban_or_Rural_Area']).size().unstack()"
   ]
  },
  {
   "cell_type": "markdown",
   "id": "73f7efa8-2c7f-4902-811e-7ebdb9c383e4",
   "metadata": {},
   "source": [
    "<h3>Based on the result of the analysis we can see that the Single Carriageway had the highest number of recorded accidents in the rural area.\n",
    "</h3>"
   ]
  },
  {
   "cell_type": "markdown",
   "id": "eb54c971-8290-4e1d-a199-3804039bca10",
   "metadata": {},
   "source": [
    "<h3>11. Which weather condition has the lowest fatal level of accident severity?</h3>"
   ]
  },
  {
   "cell_type": "code",
   "execution_count": 30,
   "id": "caab24bc-92e2-48b5-97ad-d0226353866f",
   "metadata": {},
   "outputs": [
    {
     "data": {
      "text/html": [
       "<div>\n",
       "<style scoped>\n",
       "    .dataframe tbody tr th:only-of-type {\n",
       "        vertical-align: middle;\n",
       "    }\n",
       "\n",
       "    .dataframe tbody tr th {\n",
       "        vertical-align: top;\n",
       "    }\n",
       "\n",
       "    .dataframe thead th {\n",
       "        text-align: right;\n",
       "    }\n",
       "</style>\n",
       "<table border=\"1\" class=\"dataframe\">\n",
       "  <thead>\n",
       "    <tr style=\"text-align: right;\">\n",
       "      <th>Accident_Severity</th>\n",
       "      <th>Fatal</th>\n",
       "      <th>Serious</th>\n",
       "      <th>Slight</th>\n",
       "    </tr>\n",
       "    <tr>\n",
       "      <th>Weather_Conditions</th>\n",
       "      <th></th>\n",
       "      <th></th>\n",
       "      <th></th>\n",
       "    </tr>\n",
       "  </thead>\n",
       "  <tbody>\n",
       "    <tr>\n",
       "      <th>Fine + high winds</th>\n",
       "      <td>175</td>\n",
       "      <td>1245</td>\n",
       "      <td>7134</td>\n",
       "    </tr>\n",
       "    <tr>\n",
       "      <th>Fine no high winds</th>\n",
       "      <td>7207</td>\n",
       "      <td>73285</td>\n",
       "      <td>454521</td>\n",
       "    </tr>\n",
       "    <tr>\n",
       "      <th>Fog or mist</th>\n",
       "      <td>82</td>\n",
       "      <td>483</td>\n",
       "      <td>2963</td>\n",
       "    </tr>\n",
       "    <tr>\n",
       "      <th>Other</th>\n",
       "      <td>165</td>\n",
       "      <td>1801</td>\n",
       "      <td>15184</td>\n",
       "    </tr>\n",
       "    <tr>\n",
       "      <th>Raining + high winds</th>\n",
       "      <td>145</td>\n",
       "      <td>1261</td>\n",
       "      <td>8209</td>\n",
       "    </tr>\n",
       "    <tr>\n",
       "      <th>Raining no high winds</th>\n",
       "      <td>848</td>\n",
       "      <td>9468</td>\n",
       "      <td>69380</td>\n",
       "    </tr>\n",
       "    <tr>\n",
       "      <th>Snowing + high winds</th>\n",
       "      <td>3</td>\n",
       "      <td>109</td>\n",
       "      <td>773</td>\n",
       "    </tr>\n",
       "    <tr>\n",
       "      <th>Snowing no high winds</th>\n",
       "      <td>36</td>\n",
       "      <td>565</td>\n",
       "      <td>5637</td>\n",
       "    </tr>\n",
       "  </tbody>\n",
       "</table>\n",
       "</div>"
      ],
      "text/plain": [
       "Accident_Severity      Fatal  Serious  Slight\n",
       "Weather_Conditions                           \n",
       "Fine + high winds        175     1245    7134\n",
       "Fine no high winds      7207    73285  454521\n",
       "Fog or mist               82      483    2963\n",
       "Other                    165     1801   15184\n",
       "Raining + high winds     145     1261    8209\n",
       "Raining no high winds    848     9468   69380\n",
       "Snowing + high winds       3      109     773\n",
       "Snowing no high winds     36      565    5637"
      ]
     },
     "execution_count": 30,
     "metadata": {},
     "output_type": "execute_result"
    }
   ],
   "source": [
    "accident.groupby([\"Weather_Conditions\", \"Accident_Severity\"]).size().unstack()"
   ]
  },
  {
   "cell_type": "markdown",
   "id": "88bf1301-8c8b-4705-b4e6-5f71c9672761",
   "metadata": {},
   "source": [
    "<h3> Based on the given results we can find that the weather condition with the lowest fatal accident severity is Snowing + high winds with only resulted a 3 fatal accident.</h3>"
   ]
  },
  {
   "cell_type": "markdown",
   "id": "bb375a03-2677-4fc4-9d0a-75b388fcd8fd",
   "metadata": {},
   "source": [
    "<h3>12.Which date has the most recorded of accident?</h3>"
   ]
  },
  {
   "cell_type": "code",
   "execution_count": 31,
   "id": "d7cf180d-b663-42a7-96f2-5c4df974ab21",
   "metadata": {},
   "outputs": [
    {
     "data": {
      "text/plain": [
       "Accident Date\n",
       "2021-02-11    685\n",
       "2021-10-06    680\n",
       "2019-12-06    678\n",
       "2019-02-01    676\n",
       "2021-12-04    667\n",
       "             ... \n",
       "2022-01-09    236\n",
       "2022-12-02    236\n",
       "2022-04-05    231\n",
       "2022-02-07    213\n",
       "2022-01-10    123\n",
       "Name: count, Length: 576, dtype: int64"
      ]
     },
     "execution_count": 31,
     "metadata": {},
     "output_type": "execute_result"
    }
   ],
   "source": [
    "accident['Accident Date'].value_counts()"
   ]
  },
  {
   "cell_type": "markdown",
   "id": "b91722ae-f632-4b59-813f-2d11d6a29179",
   "metadata": {},
   "source": [
    "<h3>Insights: Based on the result of which date has the most recorded of accident,2021-02-11 has the highest accident with 685 accidents.</h3>"
   ]
  },
  {
   "cell_type": "markdown",
   "id": "4eaa32af-bdf3-4b06-95c5-ae32d960cdfb",
   "metadata": {},
   "source": [
    "<h3>13. Which road surface condition is linked to the highest number of accidents?</h3>"
   ]
  },
  {
   "cell_type": "code",
   "execution_count": 32,
   "id": "d111b6ca-92d3-427b-905d-700097c020af",
   "metadata": {},
   "outputs": [
    {
     "data": {
      "text/plain": [
       "'Dry'"
      ]
     },
     "execution_count": 32,
     "metadata": {},
     "output_type": "execute_result"
    }
   ],
   "source": [
    "accident['Road_Surface_Conditions'].value_counts().idxmax()"
   ]
  },
  {
   "cell_type": "markdown",
   "id": "24fd6fd0-6b57-42a4-acd1-4213018025b2",
   "metadata": {},
   "source": [
    "<h3>Insights:According to the result the Dry got the highest number of accident on road surface condition</h3>"
   ]
  },
  {
   "cell_type": "markdown",
   "id": "fad08059-bda1-4641-8255-6cc0a6f03822",
   "metadata": {},
   "source": [
    "<h3>14. Which district has the most accident ?</h3>"
   ]
  },
  {
   "cell_type": "code",
   "execution_count": 33,
   "id": "a1ec811b-bb3f-4ed3-b5c0-e4b72d3b0962",
   "metadata": {},
   "outputs": [
    {
     "data": {
      "text/plain": [
       "District Area\n",
       "Birmingham            13491\n",
       "Leeds                  8898\n",
       "Manchester             6720\n",
       "Bradford               6212\n",
       "Sheffield              5710\n",
       "                      ...  \n",
       "Berwick-upon-Tweed      153\n",
       "Teesdale                142\n",
       "Shetland Islands        133\n",
       "Orkney Islands          117\n",
       "Clackmannanshire         91\n",
       "Name: count, Length: 422, dtype: int64"
      ]
     },
     "execution_count": 33,
     "metadata": {},
     "output_type": "execute_result"
    }
   ],
   "source": [
    "accident['District Area'].value_counts().sort_values(ascending=False)"
   ]
  },
  {
   "cell_type": "markdown",
   "id": "ab0241b6-d9d9-4d65-8487-c22f4f4fa355",
   "metadata": {},
   "source": [
    "<h3>Insights:Based on the result above the district with the most accident was Birmingham.</h3>"
   ]
  },
  {
   "cell_type": "markdown",
   "id": "65249a97-3acf-424c-b277-b62061254521",
   "metadata": {},
   "source": [
    "<h3>15. Which among the listed areas has the highest rate accident?</h3>"
   ]
  },
  {
   "cell_type": "code",
   "execution_count": 34,
   "id": "5060a3cc-c5a3-4881-bcc8-593e4f995b3c",
   "metadata": {},
   "outputs": [
    {
     "data": {
      "text/plain": [
       "District Area\n",
       "Bolsover            2.040501\n",
       "Runnymede           2.038076\n",
       "St. Albans          2.032631\n",
       "Dartford            2.031195\n",
       "South Bucks         2.022239\n",
       "                      ...   \n",
       "Aberdeenshire       1.553368\n",
       "Clackmannshire      1.487500\n",
       "Western Isles       1.455056\n",
       "Orkney Islands      1.393162\n",
       "Shetland Islands    1.353383\n",
       "Name: Number_of_Vehicles, Length: 422, dtype: float64"
      ]
     },
     "execution_count": 34,
     "metadata": {},
     "output_type": "execute_result"
    }
   ],
   "source": [
    "accident.groupby('District Area')['Number_of_Vehicles'].mean().sort_values(ascending=False)"
   ]
  },
  {
   "cell_type": "markdown",
   "id": "d6d14c8f-c2d5-4423-9316-68527c6cd591",
   "metadata": {},
   "source": [
    "<h3>Insights: Based on the results, Bolsover has the highest rate accident.</h3>"
   ]
  },
  {
   "cell_type": "markdown",
   "id": "dd8f620a-7512-4534-88d0-6808062a7f44",
   "metadata": {},
   "source": [
    "<h3>16. What has the highest casualties based in Road Surface Conditions?</h3>"
   ]
  },
  {
   "cell_type": "code",
   "execution_count": 39,
   "id": "d1ab9c4a-9760-4fce-a683-e99b9c10c362",
   "metadata": {},
   "outputs": [
    {
     "data": {
      "text/plain": [
       "Road_Surface_Conditions\n",
       "Flood over 3cm. deep    1.495575\n",
       "Wet or damp             1.411064\n",
       "Snow                    1.359593\n",
       "Frost or ice            1.348815\n",
       "Dry                     1.334545\n",
       "Name: Number_of_Casualties, dtype: float64"
      ]
     },
     "execution_count": 39,
     "metadata": {},
     "output_type": "execute_result"
    }
   ],
   "source": [
    "accident.groupby('Road_Surface_Conditions')['Number_of_Casualties'].mean().sort_values(ascending=False)"
   ]
  },
  {
   "cell_type": "markdown",
   "id": "e7656d2d-127b-4c6f-b10d-f22fa94f531b",
   "metadata": {},
   "source": [
    "<h3>Insights:Based on the result ,which is Flood over 3cm. deep has the highest casualties</h3>"
   ]
  },
  {
   "cell_type": "markdown",
   "id": "5221f487-dcf0-421e-9b7d-b213a5dde3da",
   "metadata": {},
   "source": [
    "<h3>17. Which year shows the largest year-over-year decrease in accidents?</h3>"
   ]
  },
  {
   "cell_type": "code",
   "execution_count": 41,
   "id": "ecd9d455-3460-4aaf-b991-22a8ac58e6ef",
   "metadata": {},
   "outputs": [
    {
     "data": {
      "text/plain": [
       "Year\n",
       "2019.0    71867\n",
       "2020.0    70163\n",
       "2021.0    66172\n",
       "2022.0    56805\n",
       "Name: count, dtype: int64"
      ]
     },
     "execution_count": 41,
     "metadata": {},
     "output_type": "execute_result"
    }
   ],
   "source": [
    "accident['Year'].value_counts().sort_index()"
   ]
  },
  {
   "cell_type": "markdown",
   "id": "635208ee-52dc-4851-b083-51d2e4a9d0f4",
   "metadata": {},
   "source": [
    "<h3>Insights:Based on the result the largest year-over-year decrease in accidents is 2019</h3>"
   ]
  },
  {
   "cell_type": "markdown",
   "id": "5b5de81c-5ae4-4bcf-9894-3cf74a160f42",
   "metadata": {},
   "source": [
    "<h3>18.Compare average casualties in different light conditions</h3>"
   ]
  },
  {
   "cell_type": "code",
   "execution_count": 42,
   "id": "9458a440-a783-4616-841c-ad3843962d8d",
   "metadata": {},
   "outputs": [
    {
     "data": {
      "text/plain": [
       "Light_Conditions\n",
       "Darkness - lighting unknown    1.306447\n",
       "Darkness - lights lit          1.369374\n",
       "Darkness - lights unlit        1.331105\n",
       "Darkness - no lighting         1.541657\n",
       "Daylight                       1.340309\n",
       "Name: Number_of_Casualties, dtype: float64"
      ]
     },
     "execution_count": 42,
     "metadata": {},
     "output_type": "execute_result"
    }
   ],
   "source": [
    "accident.groupby(\"Light_Conditions\")[\"Number_of_Casualties\"].mean()"
   ]
  },
  {
   "cell_type": "markdown",
   "id": "de521c4c-f12b-4baa-9c3a-671265dc4d9e",
   "metadata": {},
   "source": [
    "<h3>Insights: Accidents in darker conditions often result in more casualties compared to daylight accident</h3>"
   ]
  },
  {
   "cell_type": "markdown",
   "id": "efdfea59-1391-422d-9edb-aef94b16fccc",
   "metadata": {},
   "source": [
    "<h3>19.Which weather condition has the highest average casualties?</h3>"
   ]
  },
  {
   "cell_type": "code",
   "execution_count": 43,
   "id": "4359365f-eea9-41d5-a73c-a4e66fe3fc99",
   "metadata": {},
   "outputs": [
    {
     "data": {
      "text/plain": [
       "Weather_Conditions\n",
       "Fog or mist              1.452948\n",
       "Snowing + high winds     1.418079\n",
       "Raining + high winds     1.416641\n",
       "Raining no high winds    1.408214\n",
       "Fine + high winds        1.386018\n",
       "Other                    1.354869\n",
       "Fine no high winds       1.347397\n",
       "Snowing no high winds    1.341776\n",
       "Name: Number_of_Casualties, dtype: float64"
      ]
     },
     "execution_count": 43,
     "metadata": {},
     "output_type": "execute_result"
    }
   ],
   "source": [
    "accident.groupby(\"Weather_Conditions\")[\"Number_of_Casualties\"].mean().sort_values(ascending=False)"
   ]
  },
  {
   "cell_type": "markdown",
   "id": "fadca638-3414-4c4b-871e-10e14c4bc21f",
   "metadata": {},
   "source": [
    "<h3>Insights:Severe weather (fog, snow, heavy rain) usually leads to higher average casualties per accident.</h3>"
   ]
  },
  {
   "cell_type": "markdown",
   "id": "45d9b460-0111-4a9b-ae4a-56cdc06c4e88",
   "metadata": {},
   "source": [
    "<h3>20.Which accidents involved both motorcycles and high-speed roads (dual carriageways)?</h3>"
   ]
  },
  {
   "cell_type": "code",
   "execution_count": 50,
   "id": "c3e357f1-bf10-4ee6-9bd4-b4f2a80933d0",
   "metadata": {},
   "outputs": [
    {
     "data": {
      "text/html": [
       "<div>\n",
       "<style scoped>\n",
       "    .dataframe tbody tr th:only-of-type {\n",
       "        vertical-align: middle;\n",
       "    }\n",
       "\n",
       "    .dataframe tbody tr th {\n",
       "        vertical-align: top;\n",
       "    }\n",
       "\n",
       "    .dataframe thead th {\n",
       "        text-align: right;\n",
       "    }\n",
       "</style>\n",
       "<table border=\"1\" class=\"dataframe\">\n",
       "  <thead>\n",
       "    <tr style=\"text-align: right;\">\n",
       "      <th></th>\n",
       "      <th>Count</th>\n",
       "    </tr>\n",
       "    <tr>\n",
       "      <th>Vehicle_Type</th>\n",
       "      <th></th>\n",
       "    </tr>\n",
       "  </thead>\n",
       "  <tbody>\n",
       "    <tr>\n",
       "      <th>Car</th>\n",
       "      <td>497992</td>\n",
       "    </tr>\n",
       "    <tr>\n",
       "      <th>Van / Goods 3.5 tonnes mgw or under</th>\n",
       "      <td>34160</td>\n",
       "    </tr>\n",
       "    <tr>\n",
       "      <th>Bus or coach (17 or more pass seats)</th>\n",
       "      <td>25878</td>\n",
       "    </tr>\n",
       "    <tr>\n",
       "      <th>Motorcycle over 500cc</th>\n",
       "      <td>25657</td>\n",
       "    </tr>\n",
       "  </tbody>\n",
       "</table>\n",
       "</div>"
      ],
      "text/plain": [
       "                                       Count\n",
       "Vehicle_Type                                \n",
       "Car                                   497992\n",
       "Van / Goods 3.5 tonnes mgw or under    34160\n",
       "Bus or coach (17 or more pass seats)   25878\n",
       "Motorcycle over 500cc                  25657"
      ]
     },
     "execution_count": 50,
     "metadata": {},
     "output_type": "execute_result"
    }
   ],
   "source": [
    "accident[\"Vehicle_Type\"].value_counts().sort_values(ascending=False).head(4).to_frame(name=\"Count\")\n"
   ]
  },
  {
   "cell_type": "markdown",
   "id": "88948979-3b74-49e8-903e-7539727698a3",
   "metadata": {},
   "source": [
    "<h3>Insights:The result shows that motorcycles on dual carriageways are involved in accidents, with Motorcycle over 500cc having the highest count, indicating that high-speed roads are riskier for powerful motorcycles.</h3>"
   ]
  },
  {
   "cell_type": "markdown",
   "id": "04b412d2-e8f9-441e-9705-6c475d2c0a94",
   "metadata": {},
   "source": [
    "<h3>21.How are accidents distributed between urban and rural areas?</h3>"
   ]
  },
  {
   "cell_type": "code",
   "execution_count": 55,
   "id": "c27e701a-bea2-4750-8766-42a92e011a3e",
   "metadata": {},
   "outputs": [
    {
     "data": {
      "text/html": [
       "<div>\n",
       "<style scoped>\n",
       "    .dataframe tbody tr th:only-of-type {\n",
       "        vertical-align: middle;\n",
       "    }\n",
       "\n",
       "    .dataframe tbody tr th {\n",
       "        vertical-align: top;\n",
       "    }\n",
       "\n",
       "    .dataframe thead th {\n",
       "        text-align: right;\n",
       "    }\n",
       "</style>\n",
       "<table border=\"1\" class=\"dataframe\">\n",
       "  <thead>\n",
       "    <tr style=\"text-align: right;\">\n",
       "      <th></th>\n",
       "      <th>Count</th>\n",
       "      <th>Percentage</th>\n",
       "    </tr>\n",
       "    <tr>\n",
       "      <th>Urban_or_Rural_Area</th>\n",
       "      <th></th>\n",
       "      <th></th>\n",
       "    </tr>\n",
       "  </thead>\n",
       "  <tbody>\n",
       "    <tr>\n",
       "      <th>Urban</th>\n",
       "      <td>421678</td>\n",
       "      <td>63.8%</td>\n",
       "    </tr>\n",
       "    <tr>\n",
       "      <th>Rural</th>\n",
       "      <td>238990</td>\n",
       "      <td>36.2%</td>\n",
       "    </tr>\n",
       "    <tr>\n",
       "      <th>Unallocated</th>\n",
       "      <td>11</td>\n",
       "      <td>0.0%</td>\n",
       "    </tr>\n",
       "  </tbody>\n",
       "</table>\n",
       "</div>"
      ],
      "text/plain": [
       "                      Count Percentage\n",
       "Urban_or_Rural_Area                   \n",
       "Urban                421678      63.8%\n",
       "Rural                238990      36.2%\n",
       "Unallocated              11       0.0%"
      ]
     },
     "execution_count": 55,
     "metadata": {},
     "output_type": "execute_result"
    }
   ],
   "source": [
    "a_c = accident[\"Urban_or_Rural_Area\"].value_counts().to_frame(name=\"Count\")\n",
    "a_c[\"Percentage\"] = (a_c[\"Count\"] / a_c[\"Count\"].sum() * 100).round(1).astype(str) + \"%\"\n",
    "\n",
    "a_c"
   ]
  },
  {
   "cell_type": "markdown",
   "id": "445e6b35-7a42-4176-8ae7-56eb5932acb3",
   "metadata": {},
   "source": [
    "<h3>Insights:The results indicates that urban environments account for about 63.8% of all accidents, likely due to higher traffic density and more complex road networks. In contrast, rural areas account for 36.2%, and only a negligible share (0.0%) is unallocated.</h3>"
   ]
  },
  {
   "cell_type": "markdown",
   "id": "a0defae1-47c3-4388-af71-ce3b448c79b6",
   "metadata": {},
   "source": [
    "<h3>22. Which road types have the most accidents at night?</h3>"
   ]
  },
  {
   "cell_type": "code",
   "execution_count": 56,
   "id": "43951fa3-9a7e-4021-b3e0-6d3fea913439",
   "metadata": {},
   "outputs": [
    {
     "data": {
      "text/html": [
       "<div>\n",
       "<style scoped>\n",
       "    .dataframe tbody tr th:only-of-type {\n",
       "        vertical-align: middle;\n",
       "    }\n",
       "\n",
       "    .dataframe tbody tr th {\n",
       "        vertical-align: top;\n",
       "    }\n",
       "\n",
       "    .dataframe thead th {\n",
       "        text-align: right;\n",
       "    }\n",
       "</style>\n",
       "<table border=\"1\" class=\"dataframe\">\n",
       "  <thead>\n",
       "    <tr style=\"text-align: right;\">\n",
       "      <th></th>\n",
       "      <th>Count</th>\n",
       "      <th>Percentage</th>\n",
       "    </tr>\n",
       "    <tr>\n",
       "      <th>Road_Type</th>\n",
       "      <th></th>\n",
       "      <th></th>\n",
       "    </tr>\n",
       "  </thead>\n",
       "  <tbody>\n",
       "    <tr>\n",
       "      <th>Single carriageway</th>\n",
       "      <td>129929</td>\n",
       "      <td>73.9%</td>\n",
       "    </tr>\n",
       "    <tr>\n",
       "      <th>Dual carriageway</th>\n",
       "      <td>29072</td>\n",
       "      <td>16.5%</td>\n",
       "    </tr>\n",
       "    <tr>\n",
       "      <th>Roundabout</th>\n",
       "      <td>11411</td>\n",
       "      <td>6.5%</td>\n",
       "    </tr>\n",
       "    <tr>\n",
       "      <th>One way street</th>\n",
       "      <td>3595</td>\n",
       "      <td>2.0%</td>\n",
       "    </tr>\n",
       "    <tr>\n",
       "      <th>Slip road</th>\n",
       "      <td>1792</td>\n",
       "      <td>1.0%</td>\n",
       "    </tr>\n",
       "  </tbody>\n",
       "</table>\n",
       "</div>"
      ],
      "text/plain": [
       "                     Count Percentage\n",
       "Road_Type                            \n",
       "Single carriageway  129929      73.9%\n",
       "Dual carriageway     29072      16.5%\n",
       "Roundabout           11411       6.5%\n",
       "One way street        3595       2.0%\n",
       "Slip road             1792       1.0%"
      ]
     },
     "execution_count": 56,
     "metadata": {},
     "output_type": "execute_result"
    }
   ],
   "source": [
    "d_r_c = accident[accident[\"Light_Conditions\"].str.contains(\"Darkness\")][\"Road_Type\"].value_counts().to_frame(name=\"Count\")\n",
    "total = d_r_c[\"Count\"].sum()\n",
    "d_r_c[\"Percentage\"] = (d_r_c[\"Count\"] / total * 100).round(1).astype(str) + \"%\"\n",
    "\n",
    "d_r_c"
   ]
  },
  {
   "cell_type": "markdown",
   "id": "cc22d67d-8c54-4668-b0e5-74fc810aa402",
   "metadata": {},
   "source": [
    "<H3>Insights: According to the result it shows that single carriageways have the most accidents at night (73.7%), followed by dual carriageways (16.6%) and roundabouts (6.5%), indicating that these roads are more prone to nighttime accidents.</H3>"
   ]
  },
  {
   "cell_type": "markdown",
   "id": "11f4d1c2-10ee-4b21-b59e-cca5ccf769d7",
   "metadata": {},
   "source": [
    "<h3>23. Which road surface conditions caused more cars to have accidents?</h3>"
   ]
  },
  {
   "cell_type": "code",
   "execution_count": 58,
   "id": "d9f82766-ff6b-465d-8cf6-444592bda638",
   "metadata": {},
   "outputs": [
    {
     "data": {
      "text/plain": [
       "Road_Surface_Conditions\n",
       "Dry                     337860\n",
       "Wet or damp             140764\n",
       "Frost or ice             14108\n",
       "Snow                      4483\n",
       "Flood over 3cm. deep       777\n",
       "Name: count, dtype: int64"
      ]
     },
     "execution_count": 58,
     "metadata": {},
     "output_type": "execute_result"
    }
   ],
   "source": [
    "accident[accident['Vehicle_Type']==\"Car\"]['Road_Surface_Conditions'].value_counts()"
   ]
  },
  {
   "cell_type": "markdown",
   "id": "63fd14d3-9e18-4f57-a923-a037df91a438",
   "metadata": {},
   "source": [
    "<h3>Insights:This shows that the most accidents happened on dry roads, followed by wet roads</h3>"
   ]
  },
  {
   "cell_type": "markdown",
   "id": "7b97b4a5-6ae9-4716-978e-92ff79bf6be0",
   "metadata": {},
   "source": [
    "<h3>24.  Do multi-vehicle accidents lead to more casualties on average?</h3>"
   ]
  },
  {
   "cell_type": "code",
   "execution_count": 60,
   "id": "fd939c8b-1b69-4c89-a38b-1b60ba2639b6",
   "metadata": {},
   "outputs": [
    {
     "data": {
      "text/plain": [
       "Number_of_Vehicles\n",
       "False    1.305799\n",
       "True     1.804410\n",
       "Name: Number_of_Casualties, dtype: float64"
      ]
     },
     "execution_count": 60,
     "metadata": {},
     "output_type": "execute_result"
    }
   ],
   "source": [
    "accident.groupby(accident[\"Number_of_Vehicles\"] > 2) [\"Number_of_Casualties\"].mean()"
   ]
  },
  {
   "cell_type": "markdown",
   "id": "4914b202-4e2a-4f05-860d-13a49f1e575d",
   "metadata": {},
   "source": [
    "<h3>Insights: Based on the result Yes,accidents with more than 2 vehicles caused more injuries on average.</h3>"
   ]
  },
  {
   "cell_type": "markdown",
   "id": "91f4dae3-72b3-4c32-9ded-a8ffa7ea911d",
   "metadata": {},
   "source": [
    "<h3>25How many distributions of accidents by day of the week ?</h3>"
   ]
  },
  {
   "cell_type": "code",
   "execution_count": 61,
   "id": "062548f6-c1a9-4197-8810-ee81d41bd8aa",
   "metadata": {},
   "outputs": [
    {
     "data": {
      "text/plain": [
       "Accident Date\n",
       "Saturday     43164\n",
       "Wednesday    40037\n",
       "Friday       39822\n",
       "Thursday     39641\n",
       "Tuesday      38714\n",
       "Sunday       35065\n",
       "Monday       28564\n",
       "Name: count, dtype: int64"
      ]
     },
     "execution_count": 61,
     "metadata": {},
     "output_type": "execute_result"
    }
   ],
   "source": [
    "accident[\"Accident Date\"].dt.day_name().value_counts()"
   ]
  },
  {
   "cell_type": "markdown",
   "id": "d24b9d6c-e588-4586-82dc-6784ccb70b11",
   "metadata": {},
   "source": [
    "<h3>Insights:The result shows that in the Weekdays, especially Friday, often have the most accidenets</h3>"
   ]
  },
  {
   "cell_type": "code",
   "execution_count": null,
   "id": "4cef3fd3-5f88-46f0-a8e1-a0f2f3851aff",
   "metadata": {},
   "outputs": [],
   "source": []
  }
 ],
 "metadata": {
  "kernelspec": {
   "display_name": "Python 3 (ipykernel)",
   "language": "python",
   "name": "python3"
  },
  "language_info": {
   "codemirror_mode": {
    "name": "ipython",
    "version": 3
   },
   "file_extension": ".py",
   "mimetype": "text/x-python",
   "name": "python",
   "nbconvert_exporter": "python",
   "pygments_lexer": "ipython3",
   "version": "3.13.4"
  }
 },
 "nbformat": 4,
 "nbformat_minor": 5
}
